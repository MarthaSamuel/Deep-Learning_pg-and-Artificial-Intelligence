{
 "cells": [
  {
   "cell_type": "markdown",
   "metadata": {
    "id": "b7NTJKBewqrA"
   },
   "source": [
    "https://www.kaggle.com/datasets/fedesoriano/the-boston-houseprice-data"
   ]
  },
  {
   "cell_type": "markdown",
   "metadata": {
    "id": "YxGvOMdnKS-B"
   },
   "source": [
    "pointers to explore\n",
    "\n",
    "can we combine 2 search algos, eg genetic/ randomized and then grid\n",
    "\n",
    "speed of each algorithm"
   ]
  },
  {
   "cell_type": "code",
   "execution_count": null,
   "metadata": {
    "colab": {
     "base_uri": "https://localhost:8080/"
    },
    "id": "6YpYn9FSweY2",
    "outputId": "4b235d5d-cd1d-4639-b0f6-1409f96ed34b"
   },
   "outputs": [],
   "source": [
    "  !pip install opendatasets\n",
    "!pip install pandas\n",
    "!pip install tpot"
   ]
  },
  {
   "cell_type": "code",
   "execution_count": null,
   "metadata": {
    "id": "NWYu0D3r4bKN"
   },
   "outputs": [],
   "source": [
    "import numpy as np\n",
    "import warnings\n",
    "warnings.filterwarnings(\"ignore\")\n",
    "import matplotlib.pyplot as plt\n",
    "import seaborn as sns\n",
    "import pandas as pd\n",
    "import time\n",
    "\n",
    "from tpot import TPOTRegressor\n",
    "from matplotlib import pyplot as plt"
   ]
  },
  {
   "cell_type": "code",
   "execution_count": null,
   "metadata": {
    "id": "KocNwGiilHaI"
   },
   "outputs": [],
   "source": [
    "\n"
   ]
  },
  {
   "cell_type": "code",
   "execution_count": null,
   "metadata": {
    "colab": {
     "base_uri": "https://localhost:8080/"
    },
    "id": "RyFvYieXmlhC",
    "outputId": "cc9ff578-6851-47a8-b669-673745e0189f"
   },
   "outputs": [],
   "source": [
    "import opendatasets as od\n",
    "\n",
    "\n",
    "od.download(\"https://www.kaggle.com/datasets/fedesoriano/the-boston-houseprice-data\")\n",
    "#32cba7be0f29392dd6e7282c665a3efa#dffdgg#35t5efg\n"
   ]
  },
  {
   "cell_type": "code",
   "execution_count": null,
   "metadata": {
    "colab": {
     "base_uri": "https://localhost:8080/",
     "height": 363
    },
    "id": "UHP_GrevmllX",
    "outputId": "c8e479c8-3b38-4175-cb8e-2ca4a2b14ba4"
   },
   "outputs": [],
   "source": [
    "data=pd.read_csv(\"/content/the-boston-houseprice-data/boston.csv\")\n",
    "data=data.dropna()\n",
    "data.head(10)"
   ]
  },
  {
   "cell_type": "code",
   "execution_count": null,
   "metadata": {
    "colab": {
     "base_uri": "https://localhost:8080/",
     "height": 452
    },
    "id": "EJZgH6fi8ndc",
    "outputId": "9525b5c5-687f-473e-c123-3e9ff89f5e09"
   },
   "outputs": [],
   "source": [
    "# @title ZN\n",
    "\n",
    "\n",
    "data['ZN'].plot(kind='hist', bins=20, title='ZN')\n",
    "plt.gca().spines[['top', 'right',]].set_visible(False)"
   ]
  },
  {
   "cell_type": "code",
   "execution_count": null,
   "metadata": {
    "colab": {
     "base_uri": "https://localhost:8080/"
    },
    "id": "Z9tN49Me65aR",
    "outputId": "a633dfb6-9d04-4a0a-ca0b-0c8d34021652"
   },
   "outputs": [],
   "source": [
    "# Quick Check data:\n",
    "data.info()"
   ]
  },
  {
   "cell_type": "code",
   "execution_count": null,
   "metadata": {
    "colab": {
     "base_uri": "https://localhost:8080/",
     "height": 488
    },
    "id": "R8nhURYc65eb",
    "outputId": "5dc7a21d-d1c2-42d5-947b-f5030bab5ed0"
   },
   "outputs": [],
   "source": [
    "data.describe().T"
   ]
  },
  {
   "cell_type": "code",
   "execution_count": null,
   "metadata": {
    "colab": {
     "base_uri": "https://localhost:8080/",
     "height": 1000
    },
    "id": "z45xPuHF65q8",
    "outputId": "93aa7e8b-73ee-49ec-925d-70e5bff677d8"
   },
   "outputs": [],
   "source": [
    "sns.pairplot(data,kind=\"reg\")\n"
   ]
  },
  {
   "cell_type": "code",
   "execution_count": null,
   "metadata": {
    "id": "cuaZk5jF7MSQ"
   },
   "outputs": [],
   "source": [
    "from xgboost import XGBRegressor"
   ]
  },
  {
   "cell_type": "code",
   "execution_count": null,
   "metadata": {
    "id": "gg19w4Po-zuf"
   },
   "outputs": [],
   "source": [
    "from sklearn.model_selection import train_test_split, cross_val_score, cross_val_predict, GridSearchCV\n",
    "from sklearn.metrics import mean_squared_error, r2_score, accuracy_score#for classification only"
   ]
  },
  {
   "cell_type": "code",
   "execution_count": null,
   "metadata": {
    "colab": {
     "base_uri": "https://localhost:8080/"
    },
    "id": "fop7sH9I-z1d",
    "outputId": "4269c172-80b6-4848-b96e-be3dc98f40a1"
   },
   "outputs": [],
   "source": [
    "#X=data[[\"CRIM\",\"INDUS\",\"AGE\"]]\n",
    "X=data.drop([\"MEDV\"],axis=1)\n",
    "y=data[\"MEDV\"]\n",
    "X_train,X_test,y_train,y_test=train_test_split(X,y,test_size=0.30,random_state=42)\n",
    "print(\"X_train\",X_train.shape)\n",
    "print(\"X_test\",X_test.shape)\n",
    "print(\"y_train\",y_train.shape)\n",
    "print(\"y_test\",y_test.shape)"
   ]
  },
  {
   "cell_type": "code",
   "execution_count": null,
   "metadata": {
    "id": "wGMSWMrO7MVQ"
   },
   "outputs": [],
   "source": [
    "xgb_model=XGBRegressor().fit(X_train,y_train)"
   ]
  },
  {
   "cell_type": "code",
   "execution_count": null,
   "metadata": {
    "colab": {
     "base_uri": "https://localhost:8080/"
    },
    "id": "F9Tg7hp3-z7P",
    "outputId": "d6bab00b-6d6c-48b2-d53b-f3a26f5be14e"
   },
   "outputs": [],
   "source": [
    "y_pred=xgb_model.predict(X_test)\n",
    "mean_squared_error(y_pred,y_test) #lower the better"
   ]
  },
  {
   "cell_type": "markdown",
   "metadata": {
    "id": "IM0hxsT0B_JH"
   },
   "source": [
    "Model Tuning\n",
    "\n",
    "\n",
    "-Grid Search"
   ]
  },
  {
   "cell_type": "code",
   "execution_count": null,
   "metadata": {
    "id": "znYFuTLc-z-X"
   },
   "outputs": [],
   "source": [
    "xgb_params={\n",
    "\n",
    "    \"colsample_bytree\":[0.4, 0.6, 0.8, 1.0],\n",
    "    \"learning_rate\":[0.01, 0.03, 0.05, 0.07, 0.1, 0.3, 0.5],\n",
    "    \"max_depth\":[3, 4, 5, 6, 7, 8],\n",
    "    'subsample': [0.5, 0.8, 1.0],\n",
    "    'min_child_weight': [1, 3, 5, 10],\n",
    "    \"n_estimators\":[100,200]\n",
    "}\n",
    "\n",
    "# colsample_bytree: Number of sample per tree.\n",
    "# max_depth: Prevent to overfit\n",
    "#https://www.datasnips.com/blog/2021/7/11/XGBoost-Parameter-Tuning/"
   ]
  },
  {
   "cell_type": "code",
   "execution_count": null,
   "metadata": {
    "colab": {
     "base_uri": "https://localhost:8080/"
    },
    "id": "XE4S6hDtnhfI",
    "outputId": "c160ecb4-ae77-4ca6-929e-22c4d683c297"
   },
   "outputs": [],
   "source": [
    "%%time\n",
    "\n",
    "start_time = time.time()\n",
    "xgb_gridSearch=GridSearchCV(xgb_model,xgb_params, scoring='neg_mean_absolute_error', cv=10,n_jobs=-1,verbose=0)\n",
    "xgb_gridSearch.fit(X_train,y_train)\n",
    "end_time = time.time()\n",
    "\n",
    "execution_time = end_time - start_time\n",
    "print(f\"Execution time: {execution_time:.6f} seconds\")"
   ]
  },
  {
   "cell_type": "code",
   "execution_count": null,
   "metadata": {
    "colab": {
     "base_uri": "https://localhost:8080/"
    },
    "id": "CxCaCKB16c_a",
    "outputId": "c4ef39f4-20f7-4dd9-e21b-efdc0c9fc120"
   },
   "outputs": [],
   "source": [
    "xgb_gridSearch.best_params_"
   ]
  },
  {
   "cell_type": "code",
   "execution_count": null,
   "metadata": {
    "colab": {
     "base_uri": "https://localhost:8080/"
    },
    "id": "HgLrDEqZpc66",
    "outputId": "2d96dc3d-0783-44c4-fa17-20128ee4351b"
   },
   "outputs": [],
   "source": [
    "xgb_gridSearch.best_score_"
   ]
  },
  {
   "cell_type": "code",
   "execution_count": null,
   "metadata": {
    "colab": {
     "base_uri": "https://localhost:8080/",
     "height": 248
    },
    "id": "11L2X4N8c7ZV",
    "outputId": "d69169cd-17c9-4f67-a9ad-4ff95a77070d"
   },
   "outputs": [],
   "source": [
    "xgb_best = XGBRegressor(**xgb_gridSearch.best_params_)\n",
    "xgb_best.fit(X_train,y_train)"
   ]
  },
  {
   "cell_type": "code",
   "execution_count": null,
   "metadata": {
    "colab": {
     "base_uri": "https://localhost:8080/"
    },
    "id": "DZbyCdBR7Mcm",
    "outputId": "ced34cb2-35ff-4df8-d42a-1e38179cf1be"
   },
   "outputs": [],
   "source": [
    "y_pred=xgb_best.predict(X_test)\n",
    "mean_squared_error(y_pred,y_test)"
   ]
  },
  {
   "cell_type": "markdown",
   "metadata": {
    "id": "PlQnr5tQNjZ7"
   },
   "source": [
    "Random Search"
   ]
  },
  {
   "cell_type": "code",
   "execution_count": null,
   "metadata": {
    "colab": {
     "base_uri": "https://localhost:8080/"
    },
    "id": "VwOLAET9MHqu",
    "outputId": "69b74b98-8321-42ae-ac8e-399274d55fc6"
   },
   "outputs": [],
   "source": [
    "%%time\n",
    "\n",
    "from sklearn.model_selection import RandomizedSearchCV\n",
    " #Initialize the regressor\n",
    "xgb=XGBRegressor()\n",
    "\n",
    "\n",
    "# Create the RandomizedSearchCV object\n",
    "random_search = RandomizedSearchCV(\n",
    "    estimator=xgb,\n",
    "    param_distributions=xgb_params,\n",
    "    n_iter=10,  # Number of random combinations to try\n",
    "    scoring='neg_mean_absolute_error',  # Choose an appropriate metric\n",
    "    cv=10,  # Number of cross-validation folds\n",
    "    verbose=1,\n",
    "    n_jobs=-1  # Use all available CPU cores\n",
    ")\n",
    "\n",
    "# Fit the RandomizedSearchCV object to the training data\n",
    "random_search.fit(X_train,y_train)\n",
    "\n",
    "# Print the best hyperparameters and corresponding score\n",
    "print(\"Best parameters:\", random_search.best_params_)\n",
    "print(\"Best cross-validation score:\", random_search.best_score_)\n",
    "\n",
    "# Refit the model on the entire dataset using the best parameters\n",
    "#best_xgb_model = xgb(**random_search.best_params_)\n",
    "#best_xgb_model.fit(X, y)"
   ]
  },
  {
   "cell_type": "code",
   "execution_count": null,
   "metadata": {
    "colab": {
     "base_uri": "https://localhost:8080/",
     "height": 248
    },
    "id": "UZNXQwA3awml",
    "outputId": "0a6bb169-093c-4bfe-9fb6-f56332d621f4"
   },
   "outputs": [],
   "source": [
    "best_xgb_model = XGBRegressor(**random_search.best_params_)\n",
    "best_xgb_model.fit(X_train,y_train)"
   ]
  },
  {
   "cell_type": "code",
   "execution_count": null,
   "metadata": {
    "colab": {
     "base_uri": "https://localhost:8080/"
    },
    "id": "IqwXQw0V65z-",
    "outputId": "4eebcd68-6888-47c6-eeed-84ca93f5ea23"
   },
   "outputs": [],
   "source": [
    "y_pred=best_xgb_model.predict(X_test)\n",
    "print('mean_squared_error:',mean_squared_error(y_test, y_pred))"
   ]
  },
  {
   "cell_type": "markdown",
   "metadata": {
    "id": "7piW0CCVeEQ0"
   },
   "source": [
    "Genetic Algorithm\n"
   ]
  },
  {
   "cell_type": "code",
   "execution_count": null,
   "metadata": {
    "id": "aneSSLeaEWtC"
   },
   "outputs": [],
   "source": [
    "# Define the TPOT configuration for regression\n",
    "tpot_config = {\n",
    "    'xgboost.XGBRegressor': {\n",
    "        'n_estimators': [100, 200],\n",
    "        'max_depth': [3, 4, 5, 6, 7, 8],\n",
    "        'learning_rate': [0.01, 0.03, 0.05, 0.07, 0.1, 0.3, 0.5],\n",
    "       'subsample': [0.5, 0.8, 1.0],\n",
    "        'colsample_bytree': [0.4, 0.6, 0.8, 1.0, 1.5, 1.7, 2.0],\n",
    "        'min_child_weight': [1, 3, 5, 10]\n",
    "    }\n",
    "}"
   ]
  },
  {
   "cell_type": "code",
   "execution_count": null,
   "metadata": {
    "id": "Vj9wLaQwF9Bp"
   },
   "outputs": [],
   "source": []
  },
  {
   "cell_type": "markdown",
   "metadata": {
    "id": "CJ3xSoSoJQyZ"
   },
   "source": [
    "POPULATION GENERATION COMPARISON"
   ]
  },
  {
   "cell_type": "code",
   "execution_count": null,
   "metadata": {
    "colab": {
     "base_uri": "https://localhost:8080/",
     "height": 416,
     "referenced_widgets": [
      "04e43696b6bb4ceba802894e9208ca68",
      "94d4a79468d1446299355e63e6904ca0",
      "a0393f1539ee4fec94ceaf0091621e57",
      "91da41b866f949a688204a2a1a6c5dce",
      "0942b7d94e5646c187c5001ff0a55052",
      "eff2fe9b44e140c2adc13b0bde90a804",
      "5fa618bae47a4715ba489b956595dd70",
      "d8bcfd9364f1424eb9bd1b5b026b886a",
      "cd4c5c195a7948e2bfc504c91e97e104",
      "951814ed8e914107828802e4b4394fe0",
      "abfdb7183e88495289d8b2c713613e15"
     ]
    },
    "id": "fybJlcn0F9E1",
    "outputId": "e5b77c98-2569-462e-f95a-943c988594ca"
   },
   "outputs": [],
   "source": [
    "# Initialize TPOT for regression\n",
    "tpot = TPOTRegressor(generations=10, offspring_size = 6, population_size=10, cv=10,scoring='neg_mean_absolute_error', config_dict=tpot_config, verbosity=2, n_jobs=-1)\n",
    "# Fit TPOT to the training data\n",
    "tpot.fit(X_train, y_train)\n",
    "\n",
    "# Get the best pipeline (including hyperparameters)\n",
    "best_pipeline = tpot.fitted_pipeline_\n",
    "\n",
    "# Get the best score (negative mean absolute error in this case)\n",
    "best_score = tpot.score(X_test, y_test)\n",
    "\n",
    "print(f\"Best score (NMAE): {best_score:.4f}\")"
   ]
  },
  {
   "cell_type": "code",
   "execution_count": null,
   "metadata": {
    "colab": {
     "base_uri": "https://localhost:8080/"
    },
    "id": "uCVHEF8wF9Ir",
    "outputId": "d7f78ada-c85d-4738-c6ca-c066ed0f6765"
   },
   "outputs": [],
   "source": [
    "# Evaluate the best pipeline on the test set using MSE\n",
    "y_pred = best_pipeline.predict(X_test)\n",
    "mse = mean_squared_error(y_test, y_pred)\n",
    "\n",
    "print(f\"Best pipeline: {best_pipeline}\")\n",
    "print(f\"Test MSE: {mse:.4f}\")"
   ]
  },
  {
   "cell_type": "code",
   "execution_count": null,
   "metadata": {
    "colab": {
     "base_uri": "https://localhost:8080/",
     "height": 416,
     "referenced_widgets": [
      "819f926f8d294f33b37210c89eb0495e",
      "3fc7fe5428674b478d16ce9347b2472f",
      "a06ddc8304ac44188ccccfcbf307c572",
      "fa8329c282ba409c9fc175f1daa8dda4",
      "2d3f3cc36dad4943955ace1bf43a2fcf",
      "fcc3642acddf4955a4b12147df2e82f9",
      "bbbc5ebeee0a48ae9d2111296b65c627",
      "cf901d41d2b2461dadfde6f436860fe9",
      "e4687ce7c3b640ce82ae4f965fb4e9a0",
      "4ba2338cb9aa491daae8e20557334ab4",
      "672a6b35d04640b2a2e2e442b004d50a"
     ]
    },
    "id": "KjYGilhwF9NA",
    "outputId": "3f64b2b1-9353-4bab-9676-23c923eed124"
   },
   "outputs": [],
   "source": [
    "# Initialize TPOT for regression\n",
    "tpot = TPOTRegressor(generations=10, offspring_size = 6, population_size=30, cv=10,scoring='neg_mean_absolute_error', config_dict=tpot_config, verbosity=2, n_jobs=-1)\n",
    "# Fit TPOT to the training data\n",
    "tpot.fit(X_train, y_train)\n",
    "\n",
    "# Get the best pipeline (including hyperparameters)\n",
    "best_pipeline = tpot.fitted_pipeline_\n",
    "\n",
    "# Get the best score (negative mean absolute error in this case)\n",
    "best_score = tpot.score(X_test, y_test)\n",
    "\n",
    "print(f\"Best score (NMAE): {best_score:.4f}\")"
   ]
  },
  {
   "cell_type": "code",
   "execution_count": null,
   "metadata": {
    "colab": {
     "base_uri": "https://localhost:8080/"
    },
    "id": "kE1wLTHvF9QQ",
    "outputId": "5def949a-5955-4cdd-9599-00e04e181991"
   },
   "outputs": [],
   "source": [
    "# Evaluate the best pipeline on the test set using MSE\n",
    "y_pred = best_pipeline.predict(X_test)\n",
    "mse = mean_squared_error(y_test, y_pred)\n",
    "\n",
    "print(f\"Best pipeline: {best_pipeline}\")\n",
    "print(f\"Test MSE: {mse:.4f}\")"
   ]
  },
  {
   "cell_type": "code",
   "execution_count": null,
   "metadata": {
    "colab": {
     "base_uri": "https://localhost:8080/",
     "height": 436,
     "referenced_widgets": [
      "638ba3d0231e44e2a21d4456dc82e455",
      "ce14d949ecc24db4a760fd306bcec6ef",
      "b794784f87d64bf78709498a7b6d58b7",
      "555258f1228f44d0ac9b9a06e8ddab5b",
      "b1f87ba664864031bf7fcc8c8abcd31d",
      "d78bd0eee3d347569a66294dc8f6486e",
      "dacbfa74735248cea66cf9156b52335b",
      "428016450a4f40afaef77a10c1e15f6c",
      "ae012f8a6d8e4402b1fceb60388ffa96",
      "48d4f69ffe7d45b9ad07bfe23515b9ce",
      "aea6aa00958643d78e10e676401a4ef8"
     ]
    },
    "id": "danH9CiTO114",
    "outputId": "2476f631-ab63-4589-a2a0-2954bb63c3da"
   },
   "outputs": [],
   "source": [
    "# Initialize TPOT for regression\n",
    "tpot = TPOTRegressor(generations=10, offspring_size = 6, population_size=50, cv=10,scoring='neg_mean_absolute_error', config_dict=tpot_config, verbosity=2, n_jobs=-1)\n",
    "# Fit TPOT to the training data\n",
    "tpot.fit(X_train, y_train)\n",
    "\n",
    "# Get the best pipeline (including hyperparameters)\n",
    "best_pipeline = tpot.fitted_pipeline_\n",
    "\n",
    "# Get the best score (negative mean absolute error in this case)\n",
    "best_score = tpot.score(X_test, y_test)\n",
    "\n",
    "print(f\"Best score (NMAE): {best_score:.4f}\")"
   ]
  },
  {
   "cell_type": "code",
   "execution_count": null,
   "metadata": {
    "colab": {
     "base_uri": "https://localhost:8080/"
    },
    "id": "NEjsqEeyF9W2",
    "outputId": "8e4b5437-b31d-45ef-bf4a-0ef03342fb95"
   },
   "outputs": [],
   "source": [
    "# Evaluate the best pipeline on the test set using MSE\n",
    "y_pred = best_pipeline.predict(X_test)\n",
    "mse = mean_squared_error(y_test, y_pred)\n",
    "\n",
    "print(f\"Best pipeline: {best_pipeline}\")\n",
    "print(f\"Test MSE: {mse:.4f}\")"
   ]
  },
  {
   "cell_type": "code",
   "execution_count": null,
   "metadata": {
    "colab": {
     "base_uri": "https://localhost:8080/",
     "height": 436,
     "referenced_widgets": [
      "234a7bc3959947e597c02a42b0abfa65",
      "fc59606717574e6d87531050275a06df",
      "e98d7b647a5944a9be391353ba721eb2",
      "5ae056346b7d4f24b985d5c72bf07b97",
      "1e39e638d6204bffb73b6f5fffe82242",
      "a5c2a4f0e8c04ea9a05c76fbae44abb2",
      "8b1f9ba29bc240c0aecdc9ca2053eba0",
      "cf4f85bf44f24f4ebab038c1c14253f0",
      "f805fa0116774ce9b4a034b3ddbd59a6",
      "f0c64b8f9601475abdd242799044cdc2",
      "b65436a7e89c472db773c3050bafe774"
     ]
    },
    "id": "JK8Qk59pF9Ze",
    "outputId": "d356901f-0035-4825-b4c6-89cccbe7fb50"
   },
   "outputs": [],
   "source": [
    "# Initialize TPOT for regression\n",
    "tpot = TPOTRegressor(generations=10, offspring_size = 6, population_size=70, cv=10,scoring='neg_mean_absolute_error', config_dict=tpot_config, verbosity=2, n_jobs=-1)\n",
    "# Fit TPOT to the training data\n",
    "tpot.fit(X_train, y_train)\n",
    "\n",
    "# Get the best pipeline (including hyperparameters)\n",
    "best_pipeline = tpot.fitted_pipeline_\n",
    "\n",
    "# Get the best score (negative mean absolute error in this case)\n",
    "best_score = tpot.score(X_test, y_test)\n",
    "\n",
    "print(f\"Best score (NMAE): {best_score:.4f}\")"
   ]
  },
  {
   "cell_type": "code",
   "execution_count": null,
   "metadata": {
    "colab": {
     "base_uri": "https://localhost:8080/"
    },
    "id": "8G1pS9YTF9cU",
    "outputId": "c27deefd-3cca-42f0-eeec-e7812964b78b"
   },
   "outputs": [],
   "source": [
    "# Evaluate the best pipeline on the test set using MSE\n",
    "y_pred = best_pipeline.predict(X_test)\n",
    "mse = mean_squared_error(y_test, y_pred)\n",
    "\n",
    "print(f\"Best pipeline: {best_pipeline}\")\n",
    "print(f\"Test MSE: {mse:.4f}\")"
   ]
  },
  {
   "cell_type": "code",
   "execution_count": null,
   "metadata": {
    "colab": {
     "base_uri": "https://localhost:8080/",
     "height": 436,
     "referenced_widgets": [
      "e0a04e34a4b84cacbfbd3a724a811a6c",
      "a94895fea1aa48928f15cb40def45921",
      "9f8c7089e0ca49f6ae9dc0221449a3cf",
      "83cf263b977144a9b2510585dc2f8581",
      "ce11ee6ecae046628b663b1b41bfdbe7",
      "55f2062f9420482b9352a4a6930229fe",
      "069c20ff1b454c098aed8cc8ebb02ddd",
      "117f8e9cfc12450cbd474f983507b5bb",
      "e708419fed0e4f97a57bdfae899639dc",
      "c9649b7012c44c2888058b8d27bd3b68",
      "a4da58484ffd4944962e979ef80b37ad"
     ]
    },
    "id": "fMS5aFOtF9e3",
    "outputId": "6f37a945-100e-4fd9-e8c2-76e8343e86cf"
   },
   "outputs": [],
   "source": [
    "# Initialize TPOT for regression\n",
    "tpot = TPOTRegressor(generations=10, offspring_size = 6, population_size=100, cv=10,scoring='neg_mean_absolute_error', config_dict=tpot_config, verbosity=2, n_jobs=-1)\n",
    "# Fit TPOT to the training data\n",
    "tpot.fit(X_train, y_train)\n",
    "\n",
    "# Get the best pipeline (including hyperparameters)\n",
    "best_pipeline = tpot.fitted_pipeline_\n",
    "\n",
    "# Get the best score (negative mean absolute error in this case)\n",
    "best_score = tpot.score(X_test, y_test)\n",
    "\n",
    "print(f\"Best score (NMAE): {best_score:.4f}\")"
   ]
  },
  {
   "cell_type": "code",
   "execution_count": null,
   "metadata": {
    "colab": {
     "base_uri": "https://localhost:8080/"
    },
    "id": "aHqaTue9eiEL",
    "outputId": "2626ab0f-3d19-4438-e529-6a449ee67fd0"
   },
   "outputs": [],
   "source": [
    "# Evaluate the best pipeline on the test set using MSE\n",
    "y_pred = best_pipeline.predict(X_test)\n",
    "mse = mean_squared_error(y_test, y_pred)\n",
    "\n",
    "print(f\"Best pipeline: {best_pipeline}\")\n",
    "print(f\"Test MSE: {mse:.4f}\")"
   ]
  },
  {
   "cell_type": "code",
   "execution_count": null,
   "metadata": {
    "colab": {
     "base_uri": "https://localhost:8080/",
     "height": 436,
     "referenced_widgets": [
      "36c7511ece3b443893066d113a72742f",
      "1b94d14920ca4d11a1201549e6582ba6",
      "ddab8af347984a4792a1cd6dedfd8da3",
      "7cfcdb822cd14e469d925126a635737e",
      "cebf822a216b41098a78d932516e948d",
      "4541944f9b464787ab189a1e718e6d71",
      "5480c9ed0b5a4115a7be144c78e28b33",
      "9b742309b59241229bdd205224ba0fa0",
      "9b44a8cd16dc445f95938684fe827bd3",
      "394ac354433c4843b0e807c94e153018",
      "ffae9ee623e54ded850a697164c8bcdb"
     ]
    },
    "id": "rXkMmNUughMY",
    "outputId": "d331e347-9959-4539-d308-8da311ab5efd"
   },
   "outputs": [],
   "source": [
    "# Initialize TPOT for regression\n",
    "tpot = TPOTRegressor(generations=10, offspring_size = 6, population_size=150, cv=10,scoring='neg_mean_absolute_error', config_dict=tpot_config, verbosity=2, n_jobs=-1)\n",
    "# Fit TPOT to the training data\n",
    "tpot.fit(X_train, y_train)\n",
    "\n",
    "# Get the best pipeline (including hyperparameters)\n",
    "best_pipeline = tpot.fitted_pipeline_\n",
    "\n",
    "# Get the best score (negative mean absolute error in this case)\n",
    "best_score = tpot.score(X_test, y_test)\n",
    "\n",
    "print(f\"Best score (NMAE): {best_score:.4f}\")"
   ]
  },
  {
   "cell_type": "code",
   "execution_count": null,
   "metadata": {
    "colab": {
     "base_uri": "https://localhost:8080/"
    },
    "id": "AKIcj-AgF9tY",
    "outputId": "e92a8c83-6525-4414-9c40-48fd6aa32843"
   },
   "outputs": [],
   "source": [
    "# Evaluate the best pipeline on the test set using MSE\n",
    "y_pred = best_pipeline.predict(X_test)\n",
    "mse = mean_squared_error(y_test, y_pred)\n",
    "\n",
    "print(f\"Best pipeline: {best_pipeline}\")\n",
    "print(f\"Test MSE: {mse:.4f}\")"
   ]
  },
  {
   "cell_type": "code",
   "execution_count": null,
   "metadata": {
    "colab": {
     "base_uri": "https://localhost:8080/",
     "height": 436,
     "referenced_widgets": [
      "ff68336f5f0e47edb2d5e8840669a7fe",
      "a4a72574421a40feb2b94d1769827a15",
      "7ba1fcbdfb224605b949ebf03d628604",
      "ac016a52cf6f4c77a61bbb2e41d58e04",
      "ba96a34df83c450cb7515cf6d133f37e",
      "e51cbc0e61514c94a785694356280346",
      "10ba881a92414c53a7643f8ef960332d",
      "b9f95a82b51e4b81967913ab073d33fc",
      "cbccfd8dc6ff43308fdc160dd440685f",
      "c77a50f0170349e0a54a377517b18c12",
      "55c73618bd8c410e8356e4c729dc80bc"
     ]
    },
    "id": "FTso_VoaGpF-",
    "outputId": "633af822-5d5d-4c07-d83d-cb4088ba9200"
   },
   "outputs": [],
   "source": [
    "# Initialize TPOT for regression\n",
    "tpot = TPOTRegressor(generations=10, offspring_size = 6, population_size=200, cv=10,scoring='neg_mean_absolute_error', config_dict=tpot_config, verbosity=2, n_jobs=-1)\n",
    "# Fit TPOT to the training data\n",
    "tpot.fit(X_train, y_train)\n",
    "\n",
    "# Get the best pipeline (including hyperparameters)\n",
    "best_pipeline = tpot.fitted_pipeline_\n",
    "\n",
    "# Get the best score (negative mean absolute error in this case)\n",
    "best_score = tpot.score(X_test, y_test)\n",
    "\n",
    "print(f\"Best score (NMAE): {best_score:.4f}\")"
   ]
  },
  {
   "cell_type": "code",
   "execution_count": null,
   "metadata": {
    "colab": {
     "base_uri": "https://localhost:8080/"
    },
    "id": "CtNuRUtJGpBN",
    "outputId": "a3c7f554-cf29-48a8-c7c1-c760df612601"
   },
   "outputs": [],
   "source": [
    "# Evaluate the best pipeline on the test set using MSE\n",
    "y_pred = best_pipeline.predict(X_test)\n",
    "mse = mean_squared_error(y_test, y_pred)\n",
    "\n",
    "print(f\"Best pipeline: {best_pipeline}\")\n",
    "print(f\"Test MSE: {mse:.4f}\")"
   ]
  },
  {
   "cell_type": "code",
   "execution_count": null,
   "metadata": {
    "colab": {
     "base_uri": "https://localhost:8080/",
     "height": 763,
     "referenced_widgets": [
      "2b10ff505f594382a5cbe1ecc0756113",
      "95f34391bd7c4ac292fcede2e313847a",
      "fa94e4948c6945f2b13b4890ed0f57ab",
      "585df355023849878e2a83dbd28f718c",
      "6bd908746a4146f2a91db9b32f0378ba",
      "b6b87c840851482fa1f5c4908504c334",
      "d90015fbd85b49c18ef7e0a61aeb981f",
      "ba81c78c232c4343bfb5582385472e80",
      "675383ea1cb64ab7a25fce267d02824c",
      "4309b9b048c142f4a0c577201bb5aced",
      "f22308777bc447579a723f228b459556"
     ]
    },
    "id": "VqQylme8Go6r",
    "outputId": "88b3ff46-75d7-4b41-afee-0be3eb825207"
   },
   "outputs": [],
   "source": [
    "# Initialize TPOT for regression\n",
    "tpot = TPOTRegressor(generations=20, offspring_size = 6, population_size=10, cv=10,scoring='neg_mean_absolute_error', config_dict=tpot_config, verbosity=2, n_jobs=-1)\n",
    "# Fit TPOT to the training data\n",
    "tpot.fit(X_train, y_train)\n",
    "\n",
    "# Get the best pipeline (including hyperparameters)\n",
    "best_pipeline = tpot.fitted_pipeline_\n",
    "\n",
    "# Get the best score (negative mean absolute error in this case)\n",
    "best_score = tpot.score(X_test, y_test)\n",
    "\n",
    "print(f\"Best score (NMAE): {best_score:.4f}\")"
   ]
  },
  {
   "cell_type": "code",
   "execution_count": null,
   "metadata": {
    "colab": {
     "base_uri": "https://localhost:8080/"
    },
    "id": "RoWBv9qIhL9a",
    "outputId": "48b3ccf2-f85f-4a47-c858-05f7fbae3913"
   },
   "outputs": [],
   "source": [
    "# Evaluate the best pipeline on the test set using MSE\n",
    "y_pred = best_pipeline.predict(X_test)\n",
    "mse = mean_squared_error(y_test, y_pred)\n",
    "\n",
    "print(f\"Best pipeline: {best_pipeline}\")\n",
    "print(f\"Test MSE: {mse:.4f}\")"
   ]
  },
  {
   "cell_type": "code",
   "execution_count": null,
   "metadata": {
    "colab": {
     "base_uri": "https://localhost:8080/",
     "height": 783,
     "referenced_widgets": [
      "8e207dd8758d499bb78c19eee1a844c6",
      "8cf0c9951f4a400f98ee1c4da485ecef",
      "f763129a3d7847fe86c0bfc6774d722a",
      "4ad9b6bfd6a74d94a07e98f8a7bf1927",
      "f457179b11ee412ca60c6326a6529b53",
      "db7ef8f49a79499d9a5eadd0b1185583",
      "662d8ff90db74e96bd75d02b724a02f4",
      "7456c1ee85a84ae588215d73f63a2a57",
      "20fad3cf6b6a46fc9675e381b9cf3b7f",
      "af4cb2c30b9a4db492f0e85c7d77c551",
      "168e70938c07441191d3025f53cada2f"
     ]
    },
    "id": "ASlGL72Ig-zR",
    "outputId": "6b1ccbce-61b7-416b-9e61-f39258b68064"
   },
   "outputs": [],
   "source": [
    "# Initialize TPOT for regression\n",
    "tpot = TPOTRegressor(generations=20, offspring_size = 6, population_size=30, cv=10,scoring='neg_mean_absolute_error', config_dict=tpot_config, verbosity=2, n_jobs=-1)\n",
    "# Fit TPOT to the training data\n",
    "tpot.fit(X_train, y_train)\n",
    "\n",
    "# Get the best pipeline (including hyperparameters)\n",
    "best_pipeline = tpot.fitted_pipeline_\n",
    "\n",
    "# Get the best score (negative mean absolute error in this case)\n",
    "best_score = tpot.score(X_test, y_test)\n",
    "\n",
    "print(f\"Best score (NMAE): {best_score:.4f}\")"
   ]
  },
  {
   "cell_type": "code",
   "execution_count": null,
   "metadata": {
    "colab": {
     "base_uri": "https://localhost:8080/"
    },
    "id": "3674I3qyk-EG",
    "outputId": "81c44b1a-f5bd-4977-fe25-547d6ba9b761"
   },
   "outputs": [],
   "source": [
    "# Evaluate the best pipeline on the test set using MSE\n",
    "y_pred = best_pipeline.predict(X_test)\n",
    "mse = mean_squared_error(y_test, y_pred)\n",
    "\n",
    "print(f\"Best pipeline: {best_pipeline}\")\n",
    "print(f\"Test MSE: {mse:.4f}\")"
   ]
  },
  {
   "cell_type": "code",
   "execution_count": null,
   "metadata": {
    "colab": {
     "base_uri": "https://localhost:8080/",
     "height": 783,
     "referenced_widgets": [
      "1a005145e0204b49a2b3d07cc2b686c1",
      "6fe02326d58b4b37998c02ddf91421a2",
      "c177956ab21448c99f1e2a2e515f050d",
      "c227e9d20f95484ea7e085a345857330",
      "55084c167a664a1db19d047f3abb994b",
      "19a79f0b95894084bd9382baedf3635b",
      "5d95d0641e164615b0903e588ab84a20",
      "31e06b030d1245d28536a86120ea4f7f",
      "df9c7675b23249d98c9418592f0da95c",
      "dc28423081494ff39075dc65ac2a0cbb",
      "a74ca8ed0c9a4295977da7ae3e8ee8a2"
     ]
    },
    "id": "21z2MLvzg-sf",
    "outputId": "d835b816-2237-4e5f-b3a9-0dff63dde2a6"
   },
   "outputs": [],
   "source": [
    "# Initialize TPOT for regression\n",
    "tpot = TPOTRegressor(generations=20, offspring_size = 6, population_size=50, cv=10,scoring='neg_mean_absolute_error', config_dict=tpot_config, verbosity=2, n_jobs=-1)\n",
    "# Fit TPOT to the training data\n",
    "tpot.fit(X_train, y_train)\n",
    "\n",
    "# Get the best pipeline (including hyperparameters)\n",
    "best_pipeline = tpot.fitted_pipeline_\n",
    "\n",
    "# Get the best score (negative mean absolute error in this case)\n",
    "best_score = tpot.score(X_test, y_test)\n",
    "\n",
    "print(f\"Best score (NMAE): {best_score:.4f}\")"
   ]
  },
  {
   "cell_type": "code",
   "execution_count": null,
   "metadata": {
    "colab": {
     "base_uri": "https://localhost:8080/"
    },
    "id": "ZJ8gN8SZg-oR",
    "outputId": "2e67d7fa-32ac-4a33-c972-68ccb6540f3b"
   },
   "outputs": [],
   "source": [
    "# Evaluate the best pipeline on the test set using MSE\n",
    "y_pred = best_pipeline.predict(X_test)\n",
    "mse = mean_squared_error(y_test, y_pred)\n",
    "\n",
    "print(f\"Best pipeline: {best_pipeline}\")\n",
    "print(f\"Test MSE: {mse:.4f}\")"
   ]
  },
  {
   "cell_type": "code",
   "execution_count": null,
   "metadata": {
    "colab": {
     "base_uri": "https://localhost:8080/",
     "height": 763,
     "referenced_widgets": [
      "8deaf03f8fbe4119aa7fed867b7c1b2e",
      "323b1df3e9384074bef53e48bd2f9697",
      "d1f5e31272cd47a8b4cc167f96a3d48b",
      "cc9f60b4f6504c23b66fb562f897c1df",
      "eee47123baa141f399eeb63e32ed06b3",
      "070a9b031a6a41758e6caed84fc3427d",
      "aa06e0fabff24b5bbb0d20fb17cb62cd",
      "f96f82eb7a9b4012b2ef309d34e0b0a8",
      "d648eec7662c4542a8871b7dd8b6be96",
      "bbd22446d33a41f7b5d53bcd1b37e0b7",
      "952745fcbd6345288712ef6e984e576c"
     ]
    },
    "id": "-HQjaDO8g-jG",
    "outputId": "e6154cb7-ce8b-4702-dddb-5119598d59a1"
   },
   "outputs": [],
   "source": [
    "# Initialize TPOT for regression\n",
    "tpot = TPOTRegressor(generations=20, offspring_size = 6, population_size=70, cv=10,scoring='neg_mean_absolute_error', config_dict=tpot_config, verbosity=2, n_jobs=-1)\n",
    "# Fit TPOT to the training data\n",
    "tpot.fit(X_train, y_train)\n",
    "\n",
    "# Get the best pipeline (including hyperparameters)\n",
    "best_pipeline = tpot.fitted_pipeline_\n",
    "\n",
    "# Get the best score (negative mean absolute error in this case)\n",
    "best_score = tpot.score(X_test, y_test)\n",
    "\n",
    "print(f\"Best score (NMAE): {best_score:.4f}\")"
   ]
  },
  {
   "cell_type": "code",
   "execution_count": null,
   "metadata": {
    "colab": {
     "base_uri": "https://localhost:8080/"
    },
    "id": "yDbY0o2rg-eF",
    "outputId": "30633580-b355-48c1-bb8a-4ac40027daf5"
   },
   "outputs": [],
   "source": [
    "# Evaluate the best pipeline on the test set using MSE\n",
    "y_pred = best_pipeline.predict(X_test)\n",
    "mse = mean_squared_error(y_test, y_pred)\n",
    "\n",
    "print(f\"Best pipeline: {best_pipeline}\")\n",
    "print(f\"Test MSE: {mse:.4f}\")"
   ]
  },
  {
   "cell_type": "code",
   "execution_count": null,
   "metadata": {
    "colab": {
     "base_uri": "https://localhost:8080/",
     "height": 783,
     "referenced_widgets": [
      "1df782a4dd56405d939c2b22f9af1cbf",
      "9ce3ae1be7674034b59e3ceaf099c925",
      "667db453ca654f6cbc6f4a6de97669d6",
      "a55817210e4e458c9e69cd780e8421de",
      "803dd80f7aa84ab7ab9b2bdfc827d48b",
      "a4ddb88cf5594268954e9bc4a71c4f25",
      "6075890479c1447ca2950ce9f6712028",
      "757518ffd0e44f23849f762b39859a03",
      "ed7256dfb615415590253986a629e551",
      "8d13df189248462289c8062807aca2cd",
      "14e53e4a71204997a8f2d304639f9574"
     ]
    },
    "id": "BDwdPiBOg-Za",
    "outputId": "8efdbb52-20ea-408a-9cad-b7e3ea47bd31"
   },
   "outputs": [],
   "source": [
    "# Initialize TPOT for regression\n",
    "tpot = TPOTRegressor(generations=20, offspring_size = 6, population_size=100, cv=10,scoring='neg_mean_absolute_error', config_dict=tpot_config, verbosity=2, n_jobs=-1)\n",
    "# Fit TPOT to the training data\n",
    "tpot.fit(X_train, y_train)\n",
    "\n",
    "# Get the best pipeline (including hyperparameters)\n",
    "best_pipeline = tpot.fitted_pipeline_\n",
    "\n",
    "# Get the best score (negative mean absolute error in this case)\n",
    "best_score = tpot.score(X_test, y_test)\n",
    "\n",
    "print(f\"Best score (NMAE): {best_score:.4f}\")"
   ]
  },
  {
   "cell_type": "code",
   "execution_count": null,
   "metadata": {
    "colab": {
     "base_uri": "https://localhost:8080/"
    },
    "id": "97tiG3Fdg-SY",
    "outputId": "14cc2be4-f49d-4bfe-a8d4-8596873267f2"
   },
   "outputs": [],
   "source": [
    "# Evaluate the best pipeline on the test set using MSE\n",
    "y_pred = best_pipeline.predict(X_test)\n",
    "mse = mean_squared_error(y_test, y_pred)\n",
    "\n",
    "print(f\"Best pipeline: {best_pipeline}\")\n",
    "print(f\"Test MSE: {mse:.4f}\")"
   ]
  },
  {
   "cell_type": "code",
   "execution_count": null,
   "metadata": {
    "colab": {
     "base_uri": "https://localhost:8080/",
     "height": 783,
     "referenced_widgets": [
      "cee08ce8a2174f1989aa7e4302a82061",
      "9d2c9be371a34d4aba7168ef7ec5db4e",
      "db6061ff6a0e4fe3b600ee7aba5e0343",
      "56d4af7de6f7402c817e6cd2852049a5",
      "2c9bc6d82af941a7b4d529148d191c66",
      "085cdde162764e55a3984a012183f207",
      "30b3e5b177d248179707da452f220c0a",
      "75d02a2ea8df436bbaa1803a536ad7f3",
      "ac40a8404008400d9df5f9463ed97faa",
      "3aeebb78b2ae4ab6b8dafd07f90a8f00",
      "6b3ea5e891ac40eb9ba61c6ae3dadfe1"
     ]
    },
    "id": "ZOV2-uv1g-Nr",
    "outputId": "bce61a97-6c69-4b72-87dd-1b2f80c67aaf"
   },
   "outputs": [],
   "source": [
    "# Initialize TPOT for regression\n",
    "tpot = TPOTRegressor(generations=20, offspring_size = 6, population_size=150, cv=10,scoring='neg_mean_absolute_error', config_dict=tpot_config, verbosity=2, n_jobs=-1)\n",
    "# Fit TPOT to the training data\n",
    "tpot.fit(X_train, y_train)\n",
    "\n",
    "# Get the best pipeline (including hyperparameters)\n",
    "best_pipeline = tpot.fitted_pipeline_\n",
    "\n",
    "# Get the best score (negative mean absolute error in this case)\n",
    "best_score = tpot.score(X_test, y_test)\n",
    "\n",
    "print(f\"Best score (NMAE): {best_score:.4f}\")"
   ]
  },
  {
   "cell_type": "code",
   "execution_count": null,
   "metadata": {
    "colab": {
     "base_uri": "https://localhost:8080/"
    },
    "id": "xCp196XJg-Jo",
    "outputId": "59a4e57d-d577-40d5-b675-92fd9eec999e"
   },
   "outputs": [],
   "source": [
    "# Evaluate the best pipeline on the test set using MSE\n",
    "y_pred = best_pipeline.predict(X_test)\n",
    "mse = mean_squared_error(y_test, y_pred)\n",
    "\n",
    "print(f\"Best pipeline: {best_pipeline}\")\n",
    "print(f\"Test MSE: {mse:.4f}\")"
   ]
  },
  {
   "cell_type": "code",
   "execution_count": null,
   "metadata": {
    "colab": {
     "base_uri": "https://localhost:8080/",
     "height": 783,
     "referenced_widgets": [
      "dae2a6e9675d49a68de8d8a901cb6d9e",
      "dbac4ba2910848329df78d6fc2ecb733",
      "64b73e50426a41259d64b5510820a834",
      "7d9f2adbe7014d17972eb2b49a3c5fd8",
      "32b72ff90aee4fb7b4e3d3fd910006f9",
      "9f73a5b4393845e8a8a0ea1572edffaa",
      "14e9ad5145834d04afb2cd217aac069e",
      "baa76dc77a6c42d1aa58091984712879",
      "76bdb35b03dc418abf203ca402abb8cc",
      "b0670761eebb4af9aeaf34af023e5fd5",
      "c0bf62606b374dff953864928dc36a6f"
     ]
    },
    "id": "tpugs8vpGo3D",
    "outputId": "55438d2e-7d83-4837-af1a-2c66e4b4a844"
   },
   "outputs": [],
   "source": [
    "# Initialize TPOT for regression\n",
    "tpot = TPOTRegressor(generations=20, offspring_size = 6, population_size=200, cv=10,scoring='neg_mean_absolute_error', config_dict=tpot_config, verbosity=2, n_jobs=-1)\n",
    "# Fit TPOT to the training data\n",
    "tpot.fit(X_train, y_train)\n",
    "\n",
    "# Get the best pipeline (including hyperparameters)\n",
    "best_pipeline = tpot.fitted_pipeline_\n",
    "\n",
    "# Get the best score (negative mean absolute error in this case)\n",
    "best_score = tpot.score(X_test, y_test)\n",
    "\n",
    "print(f\"Best score (NMAE): {best_score:.4f}\")"
   ]
  },
  {
   "cell_type": "code",
   "execution_count": null,
   "metadata": {
    "colab": {
     "base_uri": "https://localhost:8080/"
    },
    "id": "5mFewdtEipYk",
    "outputId": "9b30f2ec-78b2-41ff-e5c0-79a661beb78c"
   },
   "outputs": [],
   "source": [
    "# Evaluate the best pipeline on the test set using MSE\n",
    "y_pred = best_pipeline.predict(X_test)\n",
    "mse = mean_squared_error(y_test, y_pred)\n",
    "\n",
    "print(f\"Best pipeline: {best_pipeline}\")\n",
    "print(f\"Test MSE: {mse:.4f}\")"
   ]
  },
  {
   "cell_type": "code",
   "execution_count": null,
   "metadata": {
    "colab": {
     "base_uri": "https://localhost:8080/",
     "height": 1000,
     "referenced_widgets": [
      "d26bcfc96fd1471d8869aea7761612c6",
      "895c316d251a47c9a2aa26acfe4e72dd",
      "cb61ac9cabf842fab826223fd1c760e8",
      "01748f0dad444796ae58604cf0c992a9",
      "a449a195f96946abbbdc4ce97ac32665",
      "b9f04e303f0749d48b5161fe7dff9219",
      "3a841b1d935f49a09b650f8ef485a6a4",
      "94d826c28dbc489db6a0d0fcdd8f91ec",
      "8005e5e327424e1cbd61d5de696ce76f",
      "6659981dddec4288830ec5c59471db5e",
      "87442e3e7a22422fb8c59563500a76af"
     ]
    },
    "id": "WVh0mEXxipUA",
    "outputId": "47275e8c-e7bf-44a4-966a-627349dfb05c"
   },
   "outputs": [],
   "source": [
    "# Initialize TPOT for regression\n",
    "tpot = TPOTRegressor(generations=30, offspring_size = 6, population_size=10, cv=10,scoring='neg_mean_absolute_error', config_dict=tpot_config, verbosity=2, n_jobs=-1)\n",
    "# Fit TPOT to the training data\n",
    "tpot.fit(X_train, y_train)\n",
    "\n",
    "# Get the best pipeline (including hyperparameters)\n",
    "best_pipeline = tpot.fitted_pipeline_\n",
    "\n",
    "# Get the best score (negative mean absolute error in this case)\n",
    "best_score = tpot.score(X_test, y_test)\n",
    "\n",
    "print(f\"Best score (NMAE): {best_score:.4f}\")"
   ]
  },
  {
   "cell_type": "code",
   "execution_count": null,
   "metadata": {
    "colab": {
     "base_uri": "https://localhost:8080/"
    },
    "id": "4zqYc6q-ipNY",
    "outputId": "9163b1ec-1111-4252-9fb2-ee2c0af5e215"
   },
   "outputs": [],
   "source": [
    "# Evaluate the best pipeline on the test set using MSE\n",
    "y_pred = best_pipeline.predict(X_test)\n",
    "mse = mean_squared_error(y_test, y_pred)\n",
    "\n",
    "print(f\"Best pipeline: {best_pipeline}\")\n",
    "print(f\"Test MSE: {mse:.4f}\")"
   ]
  },
  {
   "cell_type": "code",
   "execution_count": null,
   "metadata": {
    "colab": {
     "base_uri": "https://localhost:8080/",
     "height": 1000,
     "referenced_widgets": [
      "97da4ac1de4c4e42a294f58d0fbd83a2",
      "3fc2574b4f384de6a89eb8b885f05a77",
      "4314b2e6951241c2a0ae780ac9154500",
      "6a49367ac3f44dbba5d904beebd5dc1a",
      "1291e54d4f5240c4806128eb3230a8b3",
      "fa0d7195bdc34603a93b7e4b585db963",
      "31b2c536860b40468ee386e115f8a4f4",
      "997d01758ad6445faf07ec6f8149d786",
      "f0c55f33400b48d0ab378337c61bf862",
      "26802431aa894f6083abb7f5ad02e52e",
      "b27124f58c214fefb2e18a4c83b86342"
     ]
    },
    "id": "U7KZo6_1ipIi",
    "outputId": "4b40e253-8f4c-41cb-8ff6-7745d5ead2a1"
   },
   "outputs": [],
   "source": [
    "# Initialize TPOT for regression\n",
    "tpot = TPOTRegressor(generations=30, offspring_size = 6, population_size=30, cv=10,scoring='neg_mean_absolute_error', config_dict=tpot_config, verbosity=2, n_jobs=-1)\n",
    "# Fit TPOT to the training data\n",
    "tpot.fit(X_train, y_train)\n",
    "\n",
    "# Get the best pipeline (including hyperparameters)\n",
    "best_pipeline = tpot.fitted_pipeline_\n",
    "\n",
    "# Get the best score (negative mean absolute error in this case)\n",
    "best_score = tpot.score(X_test, y_test)\n",
    "\n",
    "print(f\"Best score (NMAE): {best_score:.4f}\")"
   ]
  },
  {
   "cell_type": "code",
   "execution_count": null,
   "metadata": {
    "colab": {
     "base_uri": "https://localhost:8080/"
    },
    "id": "6S9ATtwZipE0",
    "outputId": "8b13d898-331c-43c3-b639-b2b238d77934"
   },
   "outputs": [],
   "source": [
    "# Evaluate the best pipeline on the test set using MSE\n",
    "y_pred = best_pipeline.predict(X_test)\n",
    "mse = mean_squared_error(y_test, y_pred)\n",
    "\n",
    "print(f\"Best pipeline: {best_pipeline}\")\n",
    "print(f\"Test MSE: {mse:.4f}\")"
   ]
  },
  {
   "cell_type": "code",
   "execution_count": null,
   "metadata": {
    "colab": {
     "base_uri": "https://localhost:8080/",
     "height": 1000,
     "referenced_widgets": [
      "1a8f25ef1a334a2fbb632ee1182dbafe",
      "5e6d4b0f2001486ab56742dc8f378586",
      "b23409f1022449aebcf7c14d962abd00",
      "7819ddd2cc064e7c877cb18f141cdce6",
      "6d65f4749e8d4eff9638c1f952748713",
      "414d4c0823c34bf98c76283c3d74e9f0",
      "f09fe125b4064c1aaa2cf7a1fca509a5",
      "0dbb8f0def514085bc075f91cd97790b",
      "b91bda0e06804104bd34e908e005a6f2",
      "6fced601086f43eca560d03003e18a6d",
      "5703b280157e46919ce0e610cd60d533"
     ]
    },
    "id": "Nulr3rssio_K",
    "outputId": "5dedbf89-3c40-4bdc-900b-5567956b6258"
   },
   "outputs": [],
   "source": [
    "# Initialize TPOT for regression\n",
    "tpot = TPOTRegressor(generations=30, offspring_size = 6, population_size=50, cv=10,scoring='neg_mean_absolute_error', config_dict=tpot_config, verbosity=2, n_jobs=-1)\n",
    "# Fit TPOT to the training data\n",
    "tpot.fit(X_train, y_train)\n",
    "\n",
    "# Get the best pipeline (including hyperparameters)\n",
    "best_pipeline = tpot.fitted_pipeline_\n",
    "\n",
    "# Get the best score (negative mean absolute error in this case)\n",
    "best_score = tpot.score(X_test, y_test)\n",
    "\n",
    "print(f\"Best score (NMAE): {best_score:.4f}\")"
   ]
  },
  {
   "cell_type": "code",
   "execution_count": null,
   "metadata": {
    "colab": {
     "base_uri": "https://localhost:8080/"
    },
    "id": "uMXaloTuio4b",
    "outputId": "2c8bb43b-df8a-4236-93a7-f4f2eaee3d23"
   },
   "outputs": [],
   "source": [
    "# Evaluate the best pipeline on the test set using MSE\n",
    "y_pred = best_pipeline.predict(X_test)\n",
    "mse = mean_squared_error(y_test, y_pred)\n",
    "\n",
    "print(f\"Best pipeline: {best_pipeline}\")\n",
    "print(f\"Test MSE: {mse:.4f}\")"
   ]
  },
  {
   "cell_type": "code",
   "execution_count": null,
   "metadata": {
    "colab": {
     "base_uri": "https://localhost:8080/",
     "height": 1000,
     "referenced_widgets": [
      "8b5e2dc8dfe447be8fee062745e76411",
      "1886d162024647aea87533d20379a795",
      "040e0d9c9b284a689ef45cf7342710df",
      "3bed18f22adc469aa345757c3421e81c",
      "7f3814a425bd45abb1f40dd065ccf399",
      "b1adf8c4b6174f09a439c85285a46092",
      "b50bef8f32b942f3b129b988cd1e3ce5",
      "f70236c68a0243d6922bfa7e75cd043d",
      "5bafd54ae43b4958b084e133318de56f",
      "036150387c90420c9d13dff9762a19ad",
      "c29f7c4f62314caeb205b61a760be324"
     ]
    },
    "id": "G8seh61fio0I",
    "outputId": "6c196349-9751-4e1e-cfbb-b4c4e45779a3"
   },
   "outputs": [],
   "source": [
    "# Initialize TPOT for regression\n",
    "tpot = TPOTRegressor(generations=30, offspring_size = 6, population_size=70, cv=10,scoring='neg_mean_absolute_error', config_dict=tpot_config, verbosity=2, n_jobs=-1)\n",
    "# Fit TPOT to the training data\n",
    "tpot.fit(X_train, y_train)\n",
    "\n",
    "# Get the best pipeline (including hyperparameters)\n",
    "best_pipeline = tpot.fitted_pipeline_\n",
    "\n",
    "# Get the best score (negative mean absolute error in this case)\n",
    "best_score = tpot.score(X_test, y_test)\n",
    "\n",
    "print(f\"Best score (NMAE): {best_score:.4f}\")"
   ]
  },
  {
   "cell_type": "code",
   "execution_count": null,
   "metadata": {
    "colab": {
     "base_uri": "https://localhost:8080/"
    },
    "id": "l7lQ5HkhGoyK",
    "outputId": "f3277d30-53fb-4678-f7c3-7029337df093"
   },
   "outputs": [],
   "source": [
    "# Evaluate the best pipeline on the test set using MSE\n",
    "y_pred = best_pipeline.predict(X_test)\n",
    "mse = mean_squared_error(y_test, y_pred)\n",
    "\n",
    "print(f\"Best pipeline: {best_pipeline}\")\n",
    "print(f\"Test MSE: {mse:.4f}\")"
   ]
  },
  {
   "cell_type": "code",
   "execution_count": null,
   "metadata": {
    "colab": {
     "base_uri": "https://localhost:8080/",
     "height": 1000,
     "referenced_widgets": [
      "0a3e3b5ab2494462851e52c9336df7bc",
      "1c1f6fc9acd749c8bbd0042910912b38",
      "1c03550a4b404066940f71ee9db8fbfa",
      "1ce24aa6e70741c28cdf53e9eafbd9d8",
      "094fc415bfdd46b593a2021ca14734fa",
      "eccae4b848674cb581dfb7981557cd43",
      "7454f1ef2cfd486e9ff8fd1d9de187f8",
      "2f1fbfd3ca6e4b4895ec7b3b2185ed52",
      "f3c6a5ead1c5440b89d3c8750ddae41c",
      "3dbd6fd666bf44be9a6be35b041de0b3",
      "62568647f84d46519b12b3a2c02aa5c4"
     ]
    },
    "id": "tnSUkKNkijx2",
    "outputId": "88cc0206-0597-4820-8a8d-a36136672a88"
   },
   "outputs": [],
   "source": [
    "# Initialize TPOT for regression\n",
    "tpot = TPOTRegressor(generations=30, offspring_size = 6, population_size=100, cv=10,scoring='neg_mean_absolute_error', config_dict=tpot_config, verbosity=2, n_jobs=-1)\n",
    "# Fit TPOT to the training data\n",
    "tpot.fit(X_train, y_train)\n",
    "\n",
    "# Get the best pipeline (including hyperparameters)\n",
    "best_pipeline = tpot.fitted_pipeline_\n",
    "\n",
    "# Get the best score (negative mean absolute error in this case)\n",
    "best_score = tpot.score(X_test, y_test)\n",
    "\n",
    "print(f\"Best score (NMAE): {best_score:.4f}\")"
   ]
  },
  {
   "cell_type": "code",
   "execution_count": null,
   "metadata": {
    "colab": {
     "base_uri": "https://localhost:8080/"
    },
    "id": "7t7rKLWnijt0",
    "outputId": "c476da83-940e-49b0-ee50-4aaf29405eb6"
   },
   "outputs": [],
   "source": [
    "# Evaluate the best pipeline on the test set using MSE\n",
    "y_pred = best_pipeline.predict(X_test)\n",
    "mse = mean_squared_error(y_test, y_pred)\n",
    "\n",
    "print(f\"Best pipeline: {best_pipeline}\")\n",
    "print(f\"Test MSE: {mse:.4f}\")"
   ]
  },
  {
   "cell_type": "code",
   "execution_count": null,
   "metadata": {
    "colab": {
     "background_save": true,
     "base_uri": "https://localhost:8080/",
     "height": 1000,
     "referenced_widgets": [
      "481d8ee2eea54f40a5621478267ebc01",
      "b4d336e62272404aad5f16db57d2af94",
      "0c551f3ae90340c1bc7774bd51c23db0",
      "0b51e08355064796859635d5e16ee7a2",
      "27cb643ea91c4715aa06d53a7a359e7e",
      "c40e6882d381415f85600698a84d00ed",
      "167d7fc4f7a8495983c8040dfe3caa78",
      "696d3a651e094d0bb87cdb7cef6151a2",
      "a150433d99a846749b04a4c05aa274ad",
      "58bbb683ed7340d1a6456f72c737b03f",
      "558256c9759f4b7a93df844a37b37ef0"
     ]
    },
    "id": "aqowVkBeijpX",
    "outputId": "1555141d-ff48-4cf8-831a-73f52ba158f4"
   },
   "outputs": [],
   "source": [
    "# Initialize TPOT for regression\n",
    "tpot = TPOTRegressor(generations=30, offspring_size = 6, population_size=150, cv=10,scoring='neg_mean_absolute_error', config_dict=tpot_config, verbosity=2, n_jobs=-1)\n",
    "# Fit TPOT to the training data\n",
    "tpot.fit(X_train, y_train)\n",
    "\n",
    "# Get the best pipeline (including hyperparameters)\n",
    "best_pipeline = tpot.fitted_pipeline_\n",
    "\n",
    "# Get the best score (negative mean absolute error in this case)\n",
    "best_score = tpot.score(X_test, y_test)\n",
    "\n",
    "print(f\"Best score (NMAE): {best_score:.4f}\")"
   ]
  },
  {
   "cell_type": "code",
   "execution_count": null,
   "metadata": {
    "colab": {
     "background_save": true,
     "base_uri": "https://localhost:8080/"
    },
    "id": "pmqIy78zijkd",
    "outputId": "89e16c42-c716-4c78-c028-b7093ecc59d6"
   },
   "outputs": [],
   "source": [
    "# Evaluate the best pipeline on the test set using MSE\n",
    "y_pred = best_pipeline.predict(X_test)\n",
    "mse = mean_squared_error(y_test, y_pred)\n",
    "\n",
    "print(f\"Best pipeline: {best_pipeline}\")\n",
    "print(f\"Test MSE: {mse:.4f}\")"
   ]
  },
  {
   "cell_type": "code",
   "execution_count": null,
   "metadata": {
    "id": "BZ9mlO5oijfg"
   },
   "outputs": [],
   "source": [
    "# Initialize TPOT for regression\n",
    "tpot = TPOTRegressor(generations=30, offspring_size = 6, population_size=200, cv=10,scoring='neg_mean_absolute_error', config_dict=tpot_config, verbosity=2, n_jobs=-1)\n",
    "# Fit TPOT to the training data\n",
    "tpot.fit(X_train, y_train)\n",
    "\n",
    "# Get the best pipeline (including hyperparameters)\n",
    "best_pipeline = tpot.fitted_pipeline_\n",
    "\n",
    "# Get the best score (negative mean absolute error in this case)\n",
    "best_score = tpot.score(X_test, y_test)\n",
    "\n",
    "print(f\"Best score (NMAE): {best_score:.4f}\")"
   ]
  },
  {
   "cell_type": "code",
   "execution_count": null,
   "metadata": {
    "id": "eWjr5tycijbK"
   },
   "outputs": [],
   "source": [
    "# Evaluate the best pipeline on the test set using MSE\n",
    "y_pred = best_pipeline.predict(X_test)\n",
    "mse = mean_squared_error(y_test, y_pred)\n",
    "\n",
    "print(f\"Best pipeline: {best_pipeline}\")\n",
    "print(f\"Test MSE: {mse:.4f}\")"
   ]
  },
  {
   "cell_type": "code",
   "execution_count": null,
   "metadata": {
    "id": "CN26Zj4-ijV2"
   },
   "outputs": [],
   "source": []
  },
  {
   "cell_type": "code",
   "execution_count": null,
   "metadata": {
    "id": "GZk6IX7BijRE"
   },
   "outputs": [],
   "source": []
  },
  {
   "cell_type": "code",
   "execution_count": null,
   "metadata": {
    "colab": {
     "base_uri": "https://localhost:8080/",
     "height": 470
    },
    "id": "id67jzrLijL1",
    "outputId": "3022f696-5c4d-4250-f338-68af69f9e750"
   },
   "outputs": [],
   "source": [
    "import matplotlib.pyplot as plt\n",
    "\n",
    "# Data for the line graphs\n",
    "populations = [10, 30, 50, 70, 100, 150, 200]\n",
    "mse_10_gen = [10.1, 8.0, 7.9, 8.0, 9.3, 8.2, 11.4]\n",
    "mse_20_gen = [9.5, 7.6, 10.0, 8.0, 9.1, 8.8, 9.7]\n",
    "mse_30_gen = [9.4, 8.6, 8.1, 10.2, 9.2, 8.8, 9.7]\n",
    "\n",
    "# Create the line graph\n",
    "plt.figure(figsize=(10, 5))\n",
    "plt.plot(populations, mse_10_gen, marker='o', label='10 generations')\n",
    "plt.plot(populations, mse_20_gen, marker='s', label='20 generations')\n",
    "plt.plot(populations, mse_30_gen, marker='^', label='30 generations')\n",
    "\n",
    "# Set the x and y axis labels\n",
    "plt.xlabel('Population')\n",
    "plt.ylabel('MSE Scores')\n",
    "\n",
    "# Set the y axis limits\n",
    "plt.ylim(6, 11)\n",
    "\n",
    "# Add a legend\n",
    "plt.legend()\n",
    "\n",
    "# Add a grid\n",
    "plt.grid(True)\n",
    "\n",
    "# Show the plot\n",
    "plt.show()\n"
   ]
  },
  {
   "cell_type": "code",
   "execution_count": null,
   "metadata": {
    "id": "br_bQTv5IN7g"
   },
   "outputs": [],
   "source": []
  },
  {
   "cell_type": "markdown",
   "metadata": {
    "id": "tr8vNgyjIQjz"
   },
   "source": [
    "GENERATION, POPULATION PAIRS TO TRY\n",
    "\n",
    "10, 10\n",
    "\n",
    "10, 30\n",
    "\n",
    "10, 50\n",
    "\n",
    "10, 70\n",
    "\n",
    "10, 100\n",
    "\n",
    "10, 150\n",
    "\n",
    "10, 200\n",
    "\n",
    "do same for generation = 20 and generation = 30"
   ]
  }
 ],
 "metadata": {
  "colab": {
   "provenance": []
  },
  "kernelspec": {
   "display_name": "Python 3",
   "name": "python3"
  },
  "language_info": {
   "name": "python"
  }
 },
 "nbformat": 4,
 "nbformat_minor": 0
}
