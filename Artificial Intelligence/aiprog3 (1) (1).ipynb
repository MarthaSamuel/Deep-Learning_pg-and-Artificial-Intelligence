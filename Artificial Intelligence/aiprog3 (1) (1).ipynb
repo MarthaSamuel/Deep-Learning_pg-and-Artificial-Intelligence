{
  "nbformat": 4,
  "nbformat_minor": 0,
  "metadata": {
    "colab": {
      "provenance": []
    },
    "kernelspec": {
      "name": "python3",
      "display_name": "Python 3"
    },
    "language_info": {
      "name": "python"
    }
  },
  "cells": [
    {
      "cell_type": "markdown",
      "source": [
        "How to run this code:\n",
        "\n",
        "open file in colab and run cell by cell."
      ],
      "metadata": {
        "id": "B50FVABzTHoO"
      }
    },
    {
      "cell_type": "code",
      "execution_count": null,
      "metadata": {
        "id": "FlJShSVn0gMC"
      },
      "outputs": [],
      "source": [
        "#importing important libraries\n",
        "import numpy as np\n",
        "import random\n",
        "import matplotlib.pyplot as plt"
      ]
    },
    {
      "cell_type": "code",
      "source": [
        "#defining constants to help make code more readable\n",
        "WALL = 2\n",
        "EMPTY = 0\n",
        "CAN = 1\n",
        "NULL = -1"
      ],
      "metadata": {
        "id": "53ghW4w60BxI"
      },
      "execution_count": null,
      "outputs": []
    },
    {
      "cell_type": "markdown",
      "source": [],
      "metadata": {
        "id": "ia7gf5n1TFfO"
      }
    },
    {
      "cell_type": "code",
      "source": [
        "#defining parameters\n",
        "Q_matrix = None #no values initially\n",
        "num_of_episodes = 5000\n",
        "steps = 200\n",
        "learning_rate = 0.2\n",
        "gamma = 0.9"
      ],
      "metadata": {
        "id": "wcxM8Dk40B1K"
      },
      "execution_count": null,
      "outputs": []
    },
    {
      "cell_type": "code",
      "source": [
        "class GridWorld:\n",
        "    def __init__(self, robby_loc=(-1, -1)):# default robbys location, not yet set within grid boundaries.\n",
        "        self.robby_location = robby_loc\n",
        "        self.grid = np.zeros((10, 10))\n",
        "        for row in range(10):\n",
        "            for col in range(10):\n",
        "                self.grid[row, col] = random.randint(0, 1)#0 empty, 1 can\n",
        "\n",
        "\n",
        "    def set_robby_location(self, loc=(0, 0)):\n",
        "        self.robby_location = loc #setter method that allows us set robbys location to any point after grid world is created"
      ],
      "metadata": {
        "id": "J54qDeMZ4Oye"
      },
      "execution_count": null,
      "outputs": []
    },
    {
      "cell_type": "code",
      "source": [
        "\n",
        "class Robby:\n",
        "\n",
        "    def __init__(self):\n",
        "        # placing robby randomnly at beginning of simulation\n",
        "        self.location_x_coor = random.randint(0, 9)\n",
        "        self.location_y_coor = random.randint(0, 9)\n",
        "\n",
        "        # Setup grid\n",
        "        self.robby_grid = GridWorld((self.location_x_coor, self.location_y_coor))\n",
        "        #initializing reward and sensor states\n",
        "        self.reward = 0\n",
        "        self.define_here = NULL\n",
        "        self.define_north = NULL\n",
        "        self.define_south = NULL\n",
        "        self.define_west = NULL\n",
        "        self.define_east = NULL\n",
        "        #self.predict_state()\n",
        "\n",
        "    def predict_state(self):\n",
        "\n",
        "        if self.robby_grid.grid[self.location_x_coor, self.location_y_coor] == CAN:\n",
        "            self.define_here = CAN\n",
        "        else:\n",
        "            self.define_here = EMPTY\n",
        "\n",
        "        if self.location_x_coor == 0:\n",
        "            self.define_north = WALL\n",
        "        elif self.robby_grid.grid[self.location_x_coor - 1, self.location_y_coor]:\n",
        "            self.define_north = CAN\n",
        "        else:\n",
        "            self.define_north = EMPTY\n",
        "\n",
        "        if self.location_x_coor == 9:\n",
        "            self.define_south = WALL\n",
        "        elif self.robby_grid.grid[self.location_x_coor + 1, self.location_y_coor]:\n",
        "            self.define_south = CAN\n",
        "        else:\n",
        "            self.define_south = EMPTY\n",
        "\n",
        "        if self.location_y_coor == 0:\n",
        "            self.define_west = WALL\n",
        "        elif self.robby_grid.grid[self.location_x_coor, self.location_y_coor - 1]:\n",
        "            self.define_west = CAN\n",
        "        else:\n",
        "            self.define_west = EMPTY\n",
        "\n",
        "        if self.location_y_coor == 9:\n",
        "            self.define_east = WALL\n",
        "        elif self.robby_grid.grid[self.location_x_coor, self.location_y_coor + 1]:\n",
        "            self.define_east = CAN\n",
        "        else:\n",
        "            self.define_east = EMPTY\n",
        "\n",
        "    def set_robby_location(self, x_val_coor, y_val_coor):\n",
        "        self.location_x_coor = x_val_coor\n",
        "        self.location_y_coor = y_val_coor\n",
        "        self.robby_grid.set_robby_location(x_val_coor, y_val_coor)#updates location\n",
        "\n",
        "    # calculate the state in the Qmatrix\n",
        "    def get_q_matrix_State(self):\n",
        "        return ((3 ** 0) * self.define_here + (3 ** 1) * self.define_east +\n",
        "                (3 ** 2) * self.define_west + (3 ** 3) * self.define_south + (3 ** 4) * self.define_north)\n",
        "\n",
        "    def move_east(self):\n",
        "        if self.location_y_coor == 9:\n",
        "            self.reward -= 5\n",
        "            self.predict_state()\n",
        "            return -5\n",
        "        else:\n",
        "            self.location_y_coor += 1\n",
        "            self.robby_grid.set_robby_location((self.location_x_coor, self.location_y_coor))\n",
        "            self.predict_state()\n",
        "            return 0\n",
        "\n",
        "    def move_west(self):\n",
        "        if self.location_y_coor == 0:\n",
        "            self.reward -= 5\n",
        "            self.predict_state()\n",
        "            return -5\n",
        "        else:\n",
        "            self.location_y_coor -= 1\n",
        "            self.robby_grid.set_robby_location((self.location_x_coor, self.location_y_coor))\n",
        "            self.predict_state()\n",
        "            return 0\n",
        "\n",
        "    def move_north(self):\n",
        "        if self.location_x_coor == 0:\n",
        "            self.reward -= 5\n",
        "            self.predict_state()\n",
        "            return -5\n",
        "        else:\n",
        "            self.location_x_coor -= 1\n",
        "            self.robby_grid.set_robby_location((self.location_x_coor, self.location_y_coor))\n",
        "            self.predict_state()\n",
        "            return 0\n",
        "\n",
        "    def move_south(self):\n",
        "        if self.location_x_coor == 9:\n",
        "            self.reward -= 5\n",
        "            self.predict_state()\n",
        "            return -5\n",
        "        else:\n",
        "            self.location_x_coor += 1\n",
        "            self.robby_grid.set_robby_location((self.location_x_coor, self.location_y_coor))\n",
        "            self.predict_state()\n",
        "            return 0\n",
        "\n",
        "    def pickup_can(self):\n",
        "        if self.robby_grid.grid[self.location_x_coor, self.location_y_coor]==CAN:\n",
        "            self.reward += 10\n",
        "            self.robby_grid.grid[self.location_x_coor, self.location_y_coor] = 0\n",
        "            self.predict_state()\n",
        "            return 10\n",
        "        else:\n",
        "            self.reward -= 1\n",
        "            return -1\n",
        "\n",
        "    def do_action(self, rand):\n",
        "        if rand == 0:\n",
        "            return self.move_north()\n",
        "        elif rand == 1:\n",
        "            return self.move_south()\n",
        "        elif rand == 2:\n",
        "            return self.move_east()\n",
        "        elif rand == 3:\n",
        "            return self.move_west()\n",
        "        elif rand == 4:\n",
        "            return self.pickup_can()\n",
        "\n"
      ],
      "metadata": {
        "id": "y_uk4p3TFZ0k"
      },
      "execution_count": null,
      "outputs": []
    },
    {
      "cell_type": "code",
      "source": [
        "def robby_robot():\n",
        "    Q_matrix = np.zeros((3 ** 5, 5))#243 unique states\n",
        "    rewards = []\n",
        "    test_rewards = []\n",
        "    epsilon = 0.1\n",
        "    epsilon_decrement = epsilon / (num_of_episodes / 50) # Gradual decrement\n",
        "    # training robby for N episodes\n",
        "    for epoch in range(num_of_episodes+1):\n",
        "        robby = Robby()#create a new instance of robby in every epoch\n",
        "        for _ in range(steps):\n",
        "            reward = 0\n",
        "            current_state = robby.get_q_matrix_State()\n",
        "            # choose an action a using e-greedy action selection\n",
        "            action = None\n",
        "            if random.random() < epsilon:\n",
        "                action = random.randint(0, 4)\n",
        "                # assign a reward based on the action taken\n",
        "                reward = robby.do_action(action)\n",
        "            else:\n",
        "                #if all actions are zero, choose one at random\n",
        "                if np.count_nonzero(Q_matrix[robby.get_q_matrix_State(), :]) == 0:\n",
        "                    action = random.randint(0, 4)\n",
        "                else:\n",
        "                    action = np.argmax(Q_matrix[robby.get_q_matrix_State(), :])\n",
        "                # receive reward\n",
        "                reward = robby.do_action(action)\n",
        "            # update Q formula\n",
        "            Q_matrix[current_state, action] += learning_rate * (\n",
        "                    reward + gamma * (max(Q_matrix[robby.get_q_matrix_State(), :])) - Q_matrix[current_state, action])\n",
        "\n",
        "        if epoch % 50 == 0 and epsilon > 0:\n",
        "           epsilon -= epsilon_decrement\n",
        "           #epsilon = 0.5\n",
        "\n",
        "        if epoch % 100 == 0:\n",
        "            rewards.append(robby.reward)\n",
        "\n",
        "    # test robby\n",
        "    epsilon = 0.1\n",
        "    for epoch in range(num_of_episodes+1):\n",
        "        robby = Robby()\n",
        "        for _ in range(steps):\n",
        "            reward = 0\n",
        "            current_state = robby.get_q_matrix_State()\n",
        "            action = None\n",
        "            if random.random() < epsilon:\n",
        "                action = random.randint(0, 4)\n",
        "                # assign a reward based on the action taken\n",
        "                reward = robby.do_action(action)\n",
        "            else:\n",
        "                if np.count_nonzero(Q_matrix[robby.get_q_matrix_State(), :]) == 0:\n",
        "                    action = random.randint(0, 4)\n",
        "                else:\n",
        "                    action = np.argmax(Q_matrix[robby.get_q_matrix_State(), :])\n",
        "                reward = robby.do_action(action)\n",
        "\n",
        "        if epoch % 100 == 0:\n",
        "            test_rewards.append(robby.reward)\n",
        "\n",
        "    print(\"Test Average: \", np.average(test_rewards))\n",
        "    print(\"Test Standard Deviation: \", np.std(test_rewards))\n",
        "\n",
        "    plt.xlabel('Episodes (100s)')\n",
        "    plt.ylabel('Sum of Rewards')\n",
        "    plt.plot(rewards)\n",
        "    plt.savefig('Training Reward plot.png')\n",
        "    plt.show()\n",
        "\n",
        "\n",
        "if __name__ == \"__main__\":\n",
        "    robby_robot()\n"
      ],
      "metadata": {
        "colab": {
          "base_uri": "https://localhost:8080/",
          "height": 486
        },
        "id": "eMSfqFSX4O3B",
        "outputId": "f2b408e0-98b9-42d6-aec7-5704d63a527c"
      },
      "execution_count": null,
      "outputs": [
        {
          "output_type": "stream",
          "name": "stdout",
          "text": [
            "Test Average:  447.27450980392155\n",
            "Test Standard Deviation:  42.473095720159435\n"
          ]
        },
        {
          "output_type": "display_data",
          "data": {
            "text/plain": [
              "<Figure size 640x480 with 1 Axes>"
            ],
            "image/png": "[encoded data removed]"
          },
          "metadata": {}
        }
      ]
    },
    {
      "cell_type": "code",
      "source": [],
      "metadata": {
        "id": "cYizMufh0pEv"
      },
      "execution_count": null,
      "outputs": []
    },
    {
      "cell_type": "code",
      "source": [],
      "metadata": {
        "id": "AuOrGxTH0NNe"
      },
      "execution_count": null,
      "outputs": []
    },
    {
      "cell_type": "code",
      "source": [],
      "metadata": {
        "id": "LqPA_Cbr6E9-"
      },
      "execution_count": null,
      "outputs": []
    },
    {
      "cell_type": "code",
      "source": [],
      "metadata": {
        "id": "S9ZMCsUAFZ3x"
      },
      "execution_count": null,
      "outputs": []
    },
    {
      "cell_type": "code",
      "source": [],
      "metadata": {
        "id": "-UwMQZon0pLO"
      },
      "execution_count": null,
      "outputs": []
    },
    {
      "cell_type": "code",
      "source": [],
      "metadata": {
        "id": "mQSvWmgX0pPd"
      },
      "execution_count": null,
      "outputs": []
    }
  ]
}