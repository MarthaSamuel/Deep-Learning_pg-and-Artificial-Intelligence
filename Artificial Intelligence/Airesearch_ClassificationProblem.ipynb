{
 "cells": [
  {
   "cell_type": "code",
   "execution_count": null,
   "metadata": {
    "colab": {
     "base_uri": "https://localhost:8080/"
    },
    "id": "cmCWY78ok0ME",
    "outputId": "d70ad781-7419-43da-cbab-c4daa1d19966"
   },
   "outputs": [],
   "source": [
    "!pip install opendatasets\n",
    "!pip install pandas\n",
    "!pip install tpot"
   ]
  },
  {
   "cell_type": "code",
   "execution_count": null,
   "metadata": {
    "id": "i4e9oZm8k0Yz"
   },
   "outputs": [],
   "source": [
    "import numpy as np\n",
    "import warnings\n",
    "warnings.filterwarnings(\"ignore\")\n",
    "import matplotlib.pyplot as plt\n",
    "import seaborn as sns\n",
    "import pandas as pd\n",
    "import opendatasets as od\n",
    "import time\n",
    "from sklearn.model_selection import train_test_split\n",
    "from sklearn.ensemble import RandomForestClassifier, GradientBoostingClassifier\n",
    "from sklearn.preprocessing import LabelEncoder\n",
    "from sklearn.metrics import accuracy_score, confusion_matrix, classification_report\n",
    "from sklearn.model_selection import GridSearchCV\n",
    "from sklearn.preprocessing import StandardScaler\n",
    "from sklearn.impute import SimpleImputer\n",
    "from sklearn.metrics import confusion_matrix, ConfusionMatrixDisplay\n",
    "\n",
    "\n",
    "# Ignore all warnings\n",
    "warnings.filterwarnings(\"ignore\")\n",
    "\n"
   ]
  },
  {
   "cell_type": "code",
   "execution_count": null,
   "metadata": {
    "colab": {
     "base_uri": "https://localhost:8080/"
    },
    "id": "OsNeJXy2Fdt6",
    "outputId": "83f60bd0-0f25-47c4-c5a9-991bfcea70ca"
   },
   "outputs": [],
   "source": [
    "od.download(\"https://www.kaggle.com/datasets/andrewmvd/fetal-health-classification/code\")\n",
    "#32cba7be0f29392dd6e7282c665a3efa#dffdgg#35t5efg"
   ]
  },
  {
   "cell_type": "code",
   "execution_count": null,
   "metadata": {
    "colab": {
     "base_uri": "https://localhost:8080/",
     "height": 464
    },
    "id": "FI7AhLUXg5ry",
    "outputId": "a039ef9b-1cdc-4953-f993-2a0800177406"
   },
   "outputs": [],
   "source": [
    "%%time\n",
    "data=pd.read_csv(\"/content/fetal-health-classification/fetal_health.csv\")\n",
    "data=data.dropna()\n",
    "data.head(10)"
   ]
  },
  {
   "cell_type": "code",
   "execution_count": null,
   "metadata": {
    "colab": {
     "base_uri": "https://localhost:8080/"
    },
    "id": "7fT6tZpKg5v_",
    "outputId": "c3bd18b5-1255-49ac-9b86-b4ba5fd14696"
   },
   "outputs": [],
   "source": [
    "data.info()"
   ]
  },
  {
   "cell_type": "code",
   "execution_count": null,
   "metadata": {
    "colab": {
     "base_uri": "https://localhost:8080/"
    },
    "id": "XZ04aNnAg52P",
    "outputId": "5c121e13-6978-4be7-b34c-f6f2a6f63e56"
   },
   "outputs": [],
   "source": [
    "data.dtypes"
   ]
  },
  {
   "cell_type": "code",
   "execution_count": null,
   "metadata": {
    "colab": {
     "base_uri": "https://localhost:8080/"
    },
    "id": "aG9SPesik0dJ",
    "outputId": "a4dd02fe-dad8-4989-d6a7-6da396e26d0d"
   },
   "outputs": [],
   "source": [
    "data.isnull().sum()"
   ]
  },
  {
   "cell_type": "code",
   "execution_count": null,
   "metadata": {
    "colab": {
     "base_uri": "https://localhost:8080/"
    },
    "id": "AaNnzultk0ht",
    "outputId": "9757dd07-4040-48af-992c-8465c750d2db"
   },
   "outputs": [],
   "source": [
    "data.duplicated().sum()"
   ]
  },
  {
   "cell_type": "code",
   "execution_count": null,
   "metadata": {
    "colab": {
     "base_uri": "https://localhost:8080/"
    },
    "id": "ckkKT2z32IPX",
    "outputId": "2f072eb4-18f2-4e58-d6f4-657324933268"
   },
   "outputs": [],
   "source": [
    "data.nunique()"
   ]
  },
  {
   "cell_type": "code",
   "execution_count": null,
   "metadata": {
    "colab": {
     "base_uri": "https://localhost:8080/",
     "height": 367
    },
    "id": "j2PkmAJZ284X",
    "outputId": "b33c1f4f-07a4-4603-b56f-17056c40c5d1"
   },
   "outputs": [],
   "source": [
    "data.describe()"
   ]
  },
  {
   "cell_type": "code",
   "execution_count": null,
   "metadata": {
    "colab": {
     "base_uri": "https://localhost:8080/"
    },
    "id": "JFuEySVJ2vys",
    "outputId": "a898a21a-e52f-4b72-9275-3dbbe01f26c2"
   },
   "outputs": [],
   "source": [
    "data.shape"
   ]
  },
  {
   "cell_type": "code",
   "execution_count": null,
   "metadata": {
    "colab": {
     "base_uri": "https://localhost:8080/"
    },
    "id": "PPYET4SUj18h",
    "outputId": "33fecf78-b820-4ad3-b43f-9e3ca1585233"
   },
   "outputs": [],
   "source": [
    "data['fetal_health'].unique()"
   ]
  },
  {
   "cell_type": "code",
   "execution_count": null,
   "metadata": {
    "colab": {
     "base_uri": "https://localhost:8080/",
     "height": 472
    },
    "id": "MHYrs9jej2A1",
    "outputId": "892faa53-4d2c-4a2b-e4a2-d2282e118c73"
   },
   "outputs": [],
   "source": [
    "sns.countplot(x=data['fetal_health'])\n",
    "plt.title('fetal health Distribution');"
   ]
  },
  {
   "cell_type": "code",
   "execution_count": null,
   "metadata": {
    "colab": {
     "base_uri": "https://localhost:8080/",
     "height": 1000
    },
    "id": "vjw50Xalj2Ec",
    "outputId": "5a636782-79e2-4fdb-c27e-0d5babb1bba3"
   },
   "outputs": [],
   "source": [
    "cols = ['accelerations', 'baseline value', 'uterine_contractions', 'severe_decelerations']\n",
    "\n",
    "# Create subplots\n",
    "fig, axes = plt.subplots(nrows=2, ncols=2, figsize=(12, 10))\n",
    "\n",
    "palette = {1.0: 'green', 2.0: 'orange', 3.0: 'red'} #numerical values for the label\n",
    "# Flatten the 2D array of axes for easy iteration\n",
    "axes_flat = axes.flatten()\n",
    "for i, cols in enumerate(cols):\n",
    "    sns.histplot(data=data, x=cols, bins=30, ax=axes_flat[i], hue='fetal_health', kde=True, palette=palette)\n",
    "    axes_flat[i].set_title(f'{cols} vs Frequency')\n",
    "\n",
    "# Adjust layout for better spacing\n",
    "plt.tight_layout()\n",
    "\n",
    "# Show the plot\n",
    "plt.show()"
   ]
  },
  {
   "cell_type": "code",
   "execution_count": null,
   "metadata": {
    "colab": {
     "base_uri": "https://localhost:8080/",
     "height": 480
    },
    "id": "hSsMF8Ejj2LM",
    "outputId": "387ef043-3c60-4eec-e62d-9c8a62f221d5"
   },
   "outputs": [],
   "source": [
    "sns.set_theme(style=\"ticks\")\n",
    "sns.scatterplot(x=data.prolongued_decelerations[data.fetal_health==1.0], y=data.abnormal_short_term_variability[(data.fetal_health==1.0)], c=\"Green\" )\n",
    "sns.scatterplot(x=data.prolongued_decelerations[data.fetal_health==2.0], y=data.abnormal_short_term_variability[(data.fetal_health==2.0)], c=\"Yellow\" )\n",
    "sns.scatterplot(x=data.prolongued_decelerations[data.fetal_health==3.0], y=data.abnormal_short_term_variability[(data.fetal_health==3.0)], c=\"Red\" )\n",
    "\n",
    "plt.title('Scattering the prolongued_decelerations based on abnormal_short_term_variability')\n",
    "plt.legend([\"Normal\", \"Suspect\", \"Pathological\"])\n",
    "plt.xlabel(\"abnormal_short_term_variability\")\n",
    "plt.ylabel(\"prolongued_decelerations\");\n",
    "plt.grid(visible=False)"
   ]
  },
  {
   "cell_type": "code",
   "execution_count": null,
   "metadata": {
    "colab": {
     "base_uri": "https://localhost:8080/"
    },
    "id": "7B13UYfNj2PY",
    "outputId": "07004d15-00ad-4447-9844-e49a5391df85"
   },
   "outputs": [],
   "source": [
    "cross_tab = pd.crosstab(data['fetal_movement'], data['fetal_health'])\n",
    "print(\"Cross-tabulation of fetal_movement vs. fetal_health:\")\n",
    "print(cross_tab)\n"
   ]
  },
  {
   "cell_type": "code",
   "execution_count": null,
   "metadata": {
    "id": "PnaSIoKTj2TX"
   },
   "outputs": [],
   "source": [
    "X = data.iloc[:, 0: -1].values\n",
    "Y = data.iloc[:, -1].values"
   ]
  },
  {
   "cell_type": "code",
   "execution_count": null,
   "metadata": {
    "id": "-Ve23ZIAewgT"
   },
   "outputs": [],
   "source": [
    "#DataCleaning\n",
    "\n",
    "Y=Y.reshape(-1,1)\n",
    "imputerX = SimpleImputer(strategy = \"mean\", missing_values = np.nan)\n",
    "imputerX = imputerX.fit(X)\n",
    "X = imputerX.transform(X)\n",
    "imputerY = SimpleImputer(strategy = \"mean\", missing_values = np.nan)\n",
    "imputerY = imputerY.fit(Y)\n",
    "Y = imputerY.transform(Y)\n",
    "Y = np.ravel(Y)"
   ]
  },
  {
   "cell_type": "code",
   "execution_count": null,
   "metadata": {
    "id": "46_YHxQAj2Xe"
   },
   "outputs": [],
   "source": [
    "X_train, X_test, y_train, y_test = train_test_split(X, Y, test_size=0.3)"
   ]
  },
  {
   "cell_type": "code",
   "execution_count": null,
   "metadata": {
    "id": "JVkExrzp1aBD"
   },
   "outputs": [],
   "source": [
    "#Feature Scaling\n",
    "sc = StandardScaler()\n",
    "X_train = sc.fit_transform(X_train)\n",
    "X_test = sc.transform(X_test)"
   ]
  },
  {
   "cell_type": "code",
   "execution_count": null,
   "metadata": {
    "id": "xTcwJEdej2gO"
   },
   "outputs": [],
   "source": [
    "rfc = RandomForestClassifier()"
   ]
  },
  {
   "cell_type": "code",
   "execution_count": null,
   "metadata": {
    "colab": {
     "base_uri": "https://localhost:8080/"
    },
    "id": "kqtyG8liePuN",
    "outputId": "c96d3427-3553-4844-a11f-9eecf45b5b98"
   },
   "outputs": [],
   "source": [
    "rfc.fit(X_train, y_train)\n",
    "pred = rfc.predict(X_test)\n",
    "\n",
    "print('Accuracy:', accuracy_score(y_test, pred))"
   ]
  },
  {
   "cell_type": "code",
   "execution_count": null,
   "metadata": {
    "colab": {
     "base_uri": "https://localhost:8080/",
     "height": 449
    },
    "id": "QZZ4YH_bj2lw",
    "outputId": "e22f5355-064c-4181-ebda-1781c0b048d9"
   },
   "outputs": [],
   "source": [
    "cm = confusion_matrix(y_test, pred)\n",
    "classes = data.fetal_health.unique()\n",
    "display = ConfusionMatrixDisplay(confusion_matrix=cm, display_labels=classes)\n",
    "display.plot()\n",
    "\n",
    "plt.show()"
   ]
  },
  {
   "cell_type": "code",
   "execution_count": null,
   "metadata": {
    "colab": {
     "base_uri": "https://localhost:8080/"
    },
    "id": "gs0QTAHH2ToW",
    "outputId": "73346fd3-dc95-4e1a-ec0b-87acf60fe5ec"
   },
   "outputs": [],
   "source": [
    "report = classification_report(y_test, pred)\n",
    "print(report)"
   ]
  },
  {
   "cell_type": "markdown",
   "metadata": {
    "id": "V772R4834Ovr"
   },
   "source": [
    "Hyperparameter Tuning"
   ]
  },
  {
   "cell_type": "code",
   "execution_count": null,
   "metadata": {
    "id": "IPERr-SV2TsM"
   },
   "outputs": [],
   "source": [
    "#grid search\n",
    "rfc_params={\n",
    "\n",
    "    \"n_estimators\":[100, 300, 600, 1000, 2000],\n",
    "    \"min_samples_split\":[2, 3, 4],\n",
    "    \"min_samples_leaf\":[1, 2, 3, 4],\n",
    "    'bootstrap': [True, False],\n",
    "    'criterion' :['gini', 'entropy']\n",
    "}\n"
   ]
  },
  {
   "cell_type": "code",
   "execution_count": null,
   "metadata": {
    "colab": {
     "base_uri": "https://localhost:8080/",
     "height": 192
    },
    "id": "VGdBVAKV4Oa2",
    "outputId": "26715264-0f11-4b86-97c5-cf0834bdbaa0"
   },
   "outputs": [],
   "source": [
    "%%time\n",
    "rfc_gridSearch=GridSearchCV(rfc, rfc_params, scoring='accuracy', cv=10, n_jobs=-1,verbose=0)\n",
    "rfc_gridSearch.fit(X_train,y_train)"
   ]
  },
  {
   "cell_type": "code",
   "execution_count": null,
   "metadata": {
    "colab": {
     "base_uri": "https://localhost:8080/"
    },
    "id": "MrgoN0f52TvM",
    "outputId": "5e5c8db3-f9fa-4cc9-ab3a-9bfd59d6b3e2"
   },
   "outputs": [],
   "source": [
    "rfc_gridSearch.best_params_"
   ]
  },
  {
   "cell_type": "code",
   "execution_count": null,
   "metadata": {
    "colab": {
     "base_uri": "https://localhost:8080/"
    },
    "id": "2nWlfFCi2T08",
    "outputId": "f07cb0b2-b6c8-4e1a-db3e-a40b8390929a"
   },
   "outputs": [],
   "source": [
    "rfc_gridSearch.best_score_"
   ]
  },
  {
   "cell_type": "code",
   "execution_count": null,
   "metadata": {
    "colab": {
     "base_uri": "https://localhost:8080/",
     "height": 74
    },
    "id": "JXLbkJes2T31",
    "outputId": "9da3fe44-072b-4af0-d827-57c919550010"
   },
   "outputs": [],
   "source": [
    "rfc_best = RandomForestClassifier(**rfc_gridSearch.best_params_)\n",
    "rfc_best.fit(X_train,y_train)"
   ]
  },
  {
   "cell_type": "code",
   "execution_count": null,
   "metadata": {
    "colab": {
     "base_uri": "https://localhost:8080/"
    },
    "id": "ab3ZNsdp2T7v",
    "outputId": "f0972611-1779-4161-ea56-9e3e1e3fca73"
   },
   "outputs": [],
   "source": [
    "y_pred=rfc_best.predict(X_test)\n",
    "accuracy_score(y_pred,y_test)"
   ]
  },
  {
   "cell_type": "code",
   "execution_count": null,
   "metadata": {
    "colab": {
     "base_uri": "https://localhost:8080/",
     "height": 458
    },
    "id": "TBYyOUiROe5N",
    "outputId": "1b17d698-df18-4fc4-cfe3-38d22b8c12b7"
   },
   "outputs": [],
   "source": [
    "cm = confusion_matrix(y_test, y_pred)\n",
    "classes = data.fetal_health.unique()\n",
    "display = ConfusionMatrixDisplay(confusion_matrix=cm, display_labels=classes)\n",
    "display.plot()\n",
    "\n",
    "plt.show()"
   ]
  },
  {
   "cell_type": "code",
   "execution_count": null,
   "metadata": {
    "colab": {
     "base_uri": "https://localhost:8080/"
    },
    "id": "EZDaxMiOj2qc",
    "outputId": "82f10ba9-795e-45a5-d96c-ba7d757b74b7"
   },
   "outputs": [],
   "source": [
    "#Random Search\n",
    "\n",
    "from sklearn.model_selection import RandomizedSearchCV\n",
    "\n",
    "# Create the RandomizedSearchCV object\n",
    "random_search = RandomizedSearchCV(\n",
    "    estimator=rfc,\n",
    "    param_distributions=rfc_params,\n",
    "    n_iter=10,  # Number of random combinations to try\n",
    "    scoring='accuracy',  # Choose an appropriate metric\n",
    "    cv=10,  # Number of cross-validation folds\n",
    "    verbose=1,\n",
    "    n_jobs=-1  # Use all available CPU cores\n",
    ")\n",
    "\n",
    "# Fit the RandomizedSearchCV object to the training data\n",
    "random_search.fit(X_train,y_train)\n",
    "# Print the best hyperparameters and corresponding score\n",
    "print(\"Best parameters:\", random_search.best_params_)\n",
    "print(\"Best cross-validation score:\", random_search.best_score_)"
   ]
  },
  {
   "cell_type": "code",
   "execution_count": null,
   "metadata": {
    "colab": {
     "base_uri": "https://localhost:8080/",
     "height": 74
    },
    "id": "36g9-ff0k0l8",
    "outputId": "4937c565-155c-431c-8db8-f8b5572642d7"
   },
   "outputs": [],
   "source": [
    "best_rfc_model = RandomForestClassifier(**random_search.best_params_)\n",
    "best_rfc_model.fit(X_train,y_train)"
   ]
  },
  {
   "cell_type": "code",
   "execution_count": null,
   "metadata": {
    "colab": {
     "base_uri": "https://localhost:8080/"
    },
    "id": "4q6XOmLigy2E",
    "outputId": "1c498cca-a3ca-498f-9ed4-ee65fd0299ca"
   },
   "outputs": [],
   "source": [
    "y_pred=best_rfc_model.predict(X_test)\n",
    "print('accuracy:',accuracy_score(y_test, y_pred))"
   ]
  },
  {
   "cell_type": "code",
   "execution_count": null,
   "metadata": {
    "colab": {
     "base_uri": "https://localhost:8080/",
     "height": 458
    },
    "id": "vmUn4-hlORQP",
    "outputId": "f93bf470-725a-4788-bae6-24b608081983"
   },
   "outputs": [],
   "source": [
    "cm = confusion_matrix(y_test, y_pred)\n",
    "classes = data.fetal_health.unique()\n",
    "display = ConfusionMatrixDisplay(confusion_matrix=cm, display_labels=classes)\n",
    "display.plot()\n",
    "\n",
    "plt.show()"
   ]
  },
  {
   "cell_type": "code",
   "execution_count": null,
   "metadata": {
    "colab": {
     "base_uri": "https://localhost:8080/"
    },
    "id": "E9jjpI_Kgy9n",
    "outputId": "48967d92-d362-462f-bdfc-3ee5177175f7"
   },
   "outputs": [],
   "source": [
    " f#Genetic poppulatiopn generation comparison\n",
    "!pip install tpot\n"
   ]
  },
  {
   "cell_type": "code",
   "execution_count": null,
   "metadata": {
    "id": "iOsZk2GUgzBf"
   },
   "outputs": [],
   "source": [
    "import numpy as np\n",
    "from tpot import TPOTClassifier"
   ]
  },
  {
   "cell_type": "code",
   "execution_count": null,
   "metadata": {
    "id": "6SiAfbCmvoWr"
   },
   "outputs": [],
   "source": [
    "# Define the TPOT configuration for regression\n",
    "tpot_config = {\n",
    "    'sklearn.ensemble.RandomForestClassifier': {\n",
    "        \"n_estimators\":[100, 300, 600, 1000, 2000],\n",
    "    \"min_samples_split\":[2, 3, 4],\n",
    "    \"min_samples_leaf\":[1, 2, 3],\n",
    "    'bootstrap': [True, False],\n",
    "    'criterion' :['gini', 'entropy']\n",
    "    }\n",
    "}"
   ]
  },
  {
   "cell_type": "code",
   "execution_count": null,
   "metadata": {
    "id": "Vu7ckgK6voSa"
   },
   "outputs": [],
   "source": [
    "# Initialize TPOT for classification\n",
    "tpot = TPOTClassifier(generations=10, population_size=10, offspring_size = 5, cv=10, scoring='accuracy', config_dict=tpot_config, verbosity=2, n_jobs=-1)\n",
    "# Fit TPOT to the training data\n",
    "tpot.fit(X_train, y_train)\n",
    "\n",
    "# Get the best pipeline (including hyperparameters)\n",
    "best_pipeline = tpot.fitted_pipeline_\n",
    "\n",
    "# Get the best score (accuracy)\n",
    "best_score = tpot.score(X_test, y_test)\n",
    "\n",
    "print(f\"Best score (accuracy): {best_score:.4f}\")"
   ]
  },
  {
   "cell_type": "code",
   "execution_count": null,
   "metadata": {
    "colab": {
     "base_uri": "https://localhost:8080/"
    },
    "id": "arD5TDsCvoPQ",
    "outputId": "da18f108-1712-40bd-da8f-e842fe051720"
   },
   "outputs": [],
   "source": [
    "# Evaluate the best pipeline on the test set using MSE\n",
    "y_pred = best_pipeline.predict(X_test)\n",
    "acc = accuracy_score(y_test, y_pred)\n",
    "\n",
    "print(f\"Best pipeline: {best_pipeline}\")\n",
    "print(f\"Test Acc: {acc:.4f}\")"
   ]
  },
  {
   "cell_type": "code",
   "execution_count": null,
   "metadata": {
    "colab": {
     "base_uri": "https://localhost:8080/",
     "height": 436,
     "referenced_widgets": [
      "9d4133d5e34a494c8b0d03e8d0afb18d",
      "0e16c47644e746ac9d3718f2e8daac18",
      "bb13e03df17a40dbaab20e158a5c26dc",
      "c105c7b120c34a41a87ae6d1a96e747e",
      "4d276e92b3044b188b7c5168b5330e62",
      "f1f8677805944f4fa152ce24a8c429a5",
      "bac1cd65532f466dbd05c68bd3b4046b",
      "153208bf75a349878c30b98ed24bc57b",
      "266097febaf34ee0bdfb44b884a03c2f",
      "5bba73f0c6144e518a01dfb312938718",
      "e0fae0b43a8a4ba3893fc501ee899d7a"
     ]
    },
    "id": "122q-Hz3voHr",
    "outputId": "31bf6f83-0195-4286-ed44-ef93998ed9eb"
   },
   "outputs": [],
   "source": [
    "# Initialize TPOT for classification\n",
    "tpot = TPOTClassifier(generations=10, population_size=30, offspring_size = 5, cv=10, scoring='accuracy', config_dict=tpot_config, verbosity=2, n_jobs=-1)\n",
    "# Fit TPOT to the training data\n",
    "tpot.fit(X_train, y_train)\n",
    "\n",
    "# Get the best pipeline (including hyperparameters)\n",
    "best_pipeline = tpot.fitted_pipeline_\n",
    "\n",
    "# Get the best score (accuracy)\n",
    "best_score = tpot.score(X_test, y_test)\n",
    "\n",
    "print(f\"Best score (accuracy): {best_score:.4f}\")"
   ]
  },
  {
   "cell_type": "code",
   "execution_count": null,
   "metadata": {
    "colab": {
     "base_uri": "https://localhost:8080/"
    },
    "id": "E9tYuMvIvoDx",
    "outputId": "9cba602b-c5c1-4f18-d675-8f97aea10022"
   },
   "outputs": [],
   "source": [
    "# Evaluate the best pipeline on the test set using MSE\n",
    "y_pred = best_pipeline.predict(X_test)\n",
    "acc = accuracy_score(y_test, y_pred)\n",
    "\n",
    "print(f\"Best pipeline: {best_pipeline}\")\n",
    "print(f\"Test Acc: {acc:.4f}\")"
   ]
  },
  {
   "cell_type": "code",
   "execution_count": null,
   "metadata": {
    "colab": {
     "base_uri": "https://localhost:8080/",
     "height": 436,
     "referenced_widgets": [
      "90d16538a09040339933c4730d29a23c",
      "eaa0cc376df94066ba41aec370425aed",
      "cd51778c70ce4e07b1b2a9acf668a704",
      "0bf120bec92c479aac72c9cff7690c62",
      "0615e5b2fc624fa68f13efb1e18ba3a3",
      "f6560750ff8b4f9998c536a1bb356781",
      "74222bf2afca47429daeb492e7f22238",
      "be175563bed147f19076faf27aa51f05",
      "cc06044f7bea4cf1ab339e7460f79065",
      "5519f9b0cb504466ad69833f946130d0",
      "4a8016318b6746d3af10abfe7e58692a"
     ]
    },
    "id": "iuRNJMxWvn_A",
    "outputId": "dc99ebf1-2548-4bf1-c62f-cba67400bbd3"
   },
   "outputs": [],
   "source": [
    "# Initialize TPOT for classification\n",
    "tpot = TPOTClassifier(generations=10, population_size=50, offspring_size = 5, cv=10, scoring='accuracy', config_dict=tpot_config, verbosity=2, n_jobs=-1)\n",
    "# Fit TPOT to the training data\n",
    "tpot.fit(X_train, y_train)\n",
    "\n",
    "# Get the best pipeline (including hyperparameters)\n",
    "best_pipeline = tpot.fitted_pipeline_\n",
    "\n",
    "# Get the best score (accuracy)\n",
    "best_score = tpot.score(X_test, y_test)\n",
    "\n",
    "print(f\"Best score (accuracy): {best_score:.4f}\")"
   ]
  },
  {
   "cell_type": "code",
   "execution_count": null,
   "metadata": {
    "colab": {
     "base_uri": "https://localhost:8080/"
    },
    "id": "6O231XrczRnd",
    "outputId": "96a60221-01ba-4611-9ec4-b5df528ee0b6"
   },
   "outputs": [],
   "source": [
    "# Evaluate the best pipeline on the test set using MSE\n",
    "y_pred = best_pipeline.predict(X_test)\n",
    "acc = accuracy_score(y_test, y_pred)\n",
    "\n",
    "print(f\"Best pipeline: {best_pipeline}\")\n",
    "print(f\"Test MSE: {acc:.4f}\")"
   ]
  },
  {
   "cell_type": "code",
   "execution_count": null,
   "metadata": {
    "colab": {
     "base_uri": "https://localhost:8080/",
     "height": 436,
     "referenced_widgets": [
      "7035757697094d2b81e81d05224594a6",
      "2f82a34051ab4733b590e30ef258ff42",
      "2efb4bc63b074311965ec0d8eea174ca",
      "9d3712039f6d4c318b29b3161e7e8219",
      "f8ba7b6eadf54101ace5e1639ed3e081",
      "e56a694b8abc4f1696e812cee037a4c3",
      "d2bf0540a1314aa4a9948384822ebe38",
      "b5d06d1879aa4ee4b22d75053c5219da",
      "c4364d8af76b4ac38dc8b4111adb35f0",
      "70efc2d424f344b8aca5c635d7ba8047",
      "f0067df4541447b582fd190ed2ff494a"
     ]
    },
    "id": "lGqmHaNHzRic",
    "outputId": "073ca0cb-8099-42fb-a90a-bc5226a291dd"
   },
   "outputs": [],
   "source": [
    "# Initialize TPOT for classification\n",
    "tpot = TPOTClassifier(generations=10, population_size=70, cv=10, offspring_size = 5, scoring='accuracy', config_dict=tpot_config, verbosity=2, n_jobs=-1)\n",
    "# Fit TPOT to the training data\n",
    "tpot.fit(X_train, y_train)\n",
    "\n",
    "# Get the best pipeline (including hyperparameters)\n",
    "best_pipeline = tpot.fitted_pipeline_\n",
    "\n",
    "# Get the best score (accuracy)\n",
    "best_score = tpot.score(X_test, y_test)\n",
    "\n",
    "print(f\"Best score (accuracy): {best_score:.4f}\")"
   ]
  },
  {
   "cell_type": "code",
   "execution_count": null,
   "metadata": {
    "colab": {
     "base_uri": "https://localhost:8080/"
    },
    "id": "ouIluFdFzReS",
    "outputId": "54eb5104-f8a0-498d-be7d-a47c42ea0f00"
   },
   "outputs": [],
   "source": [
    "# Evaluate the best pipeline on the test set using MSE\n",
    "y_pred = best_pipeline.predict(X_test)\n",
    "acc = accuracy_score(y_test, y_pred)\n",
    "\n",
    "print(f\"Best pipeline: {best_pipeline}\")\n",
    "print(f\"Test MSE: {acc:.4f}\")"
   ]
  },
  {
   "cell_type": "code",
   "execution_count": null,
   "metadata": {
    "colab": {
     "base_uri": "https://localhost:8080/",
     "height": 436,
     "referenced_widgets": [
      "b9b7542da1f54fd08713c04be0c07fe8",
      "f62dc1b561be4cf09c224377c4de7664",
      "b9dd86329cce425bb9c78139c5d2ed84",
      "699da1a98d5540479ba717d225cb4998",
      "90115e3024684c92b64c402da6378446",
      "ca1f9e63ac244ea99f8b62fc5294a888",
      "82a6ddb6404844feb46c195e616b5fb2",
      "8248d6388b114fdbadba00779c5fb4c8",
      "a17341e01af940fe8fc45bde87604045",
      "bc0117ec1f36433988833f0216895656",
      "f613ebf506434386a90a40235e54ab2b"
     ]
    },
    "id": "ZKmNUuhlzRaY",
    "outputId": "02cb85bb-7725-427e-e6c5-bf1de713dcfd"
   },
   "outputs": [],
   "source": [
    "# Initialize TPOT for classification\n",
    "tpot = TPOTClassifier(generations=10, population_size=100, offspring_size = 5, cv=10, scoring='accuracy', config_dict=tpot_config, verbosity=2, n_jobs=-1)\n",
    "# Fit TPOT to the training data\n",
    "tpot.fit(X_train, y_train)\n",
    "\n",
    "# Get the best pipeline (including hyperparameters)\n",
    "best_pipeline = tpot.fitted_pipeline_\n",
    "\n",
    "# Get the best score (accuracy)\n",
    "best_score = tpot.score(X_test, y_test)\n",
    "\n",
    "print(f\"Best score (accuracy): {best_score:.4f}\")"
   ]
  },
  {
   "cell_type": "code",
   "execution_count": null,
   "metadata": {
    "colab": {
     "base_uri": "https://localhost:8080/"
    },
    "id": "sJfABEpyzRVS",
    "outputId": "0c2aa852-6a93-4b2f-c66c-a2fd437707b6"
   },
   "outputs": [],
   "source": [
    "# Evaluate the best pipeline on the test set using MSE\n",
    "y_pred = best_pipeline.predict(X_test)\n",
    "acc = accuracy_score(y_test, y_pred)\n",
    "\n",
    "print(f\"Best pipeline: {best_pipeline}\")\n",
    "print(f\"Test MSE: {acc:.4f}\")"
   ]
  },
  {
   "cell_type": "code",
   "execution_count": null,
   "metadata": {
    "colab": {
     "base_uri": "https://localhost:8080/",
     "height": 436,
     "referenced_widgets": [
      "f90b275fdbfb46149e04ecdf73d25609",
      "823f419e02b04917bb5c4c5568d10511",
      "c6fe95c590404fbab65c3e45c0e38339",
      "928b260c81444c359994f5f2db0c58f4",
      "f0494528e82d4d9d8c25cf3b808c90bc",
      "ac514adcc2884bd3a6e85b5b918ec465",
      "1a79b9e8c2ab4ebfa98a2e601425a66e",
      "6cce489735e84e428697befdc515541a",
      "838801868c1649a198197ac9cb9e3beb",
      "e40ca751529c4492ba9f12aa9efcf98f",
      "09b33ef3f3e44bffaed218bfe9ee3a4f"
     ]
    },
    "id": "qwtpAKXJzRQq",
    "outputId": "6542a9fb-287b-4e57-d90b-d0354db526b8"
   },
   "outputs": [],
   "source": [
    "# Initialize TPOT for classification\n",
    "tpot = TPOTClassifier(generations=10, population_size=150, offspring_size = 5, cv=10, scoring='accuracy', config_dict=tpot_config, verbosity=2, n_jobs=-1)\n",
    "# Fit TPOT to the training data\n",
    "tpot.fit(X_train, y_train)\n",
    "\n",
    "# Get the best pipeline (including hyperparameters)\n",
    "best_pipeline = tpot.fitted_pipeline_\n",
    "\n",
    "# Get the best score (accuracy)\n",
    "best_score = tpot.score(X_test, y_test)\n",
    "\n",
    "print(f\"Best score (accuracy): {best_score:.4f}\")"
   ]
  },
  {
   "cell_type": "code",
   "execution_count": null,
   "metadata": {
    "colab": {
     "base_uri": "https://localhost:8080/"
    },
    "id": "F0Zput5uzRMG",
    "outputId": "e24a0e25-b503-4d94-facf-37efd0778f39"
   },
   "outputs": [],
   "source": [
    "# Evaluate the best pipeline on the test set using MSE\n",
    "y_pred = best_pipeline.predict(X_test)\n",
    "acc = accuracy_score(y_test, y_pred)\n",
    "\n",
    "print(f\"Best pipeline: {best_pipeline}\")\n",
    "print(f\"Test MSE: {acc:.4f}\")"
   ]
  },
  {
   "cell_type": "code",
   "execution_count": null,
   "metadata": {
    "colab": {
     "base_uri": "https://localhost:8080/",
     "height": 436,
     "referenced_widgets": [
      "c6e5b09786fb4e1984d94baab16de657",
      "d565d0facc1142e49a614c5b1a59d0d8",
      "8dacf632456a4f8cb6c6ec5e43db9b5d",
      "832ad03609274761aac2683e92d06ed0",
      "fa60a8792715416f9bff9b049b641d81",
      "a24458a2e20a427eb4143e6e3a5636f0",
      "3e5af3c3e211452f8931204b50616b1f",
      "57ed71fa10ad4a6a919d78250f343c90",
      "2195bdc3a6434cb8aee3dbb6eaf52533",
      "6d81d6d6954049a9b1d3c366e6ba10e6",
      "3b6ab7657a144bc4a20b5ee60fbeab67"
     ]
    },
    "id": "TvI73lh1zREQ",
    "outputId": "31b48703-0f6b-432b-af7a-df303bfb44a9"
   },
   "outputs": [],
   "source": [
    "# Initialize TPOT for classification\n",
    "tpot = TPOTClassifier(generations=10, population_size=200, offspring_size = 5, cv=10, scoring='accuracy', config_dict=tpot_config, verbosity=2, n_jobs=-1)\n",
    "# Fit TPOT to the training data\n",
    "tpot.fit(X_train, y_train)\n",
    "\n",
    "# Get the best pipeline (including hyperparameters)\n",
    "best_pipeline = tpot.fitted_pipeline_\n",
    "\n",
    "# Get the best score (accuracy)\n",
    "best_score = tpot.score(X_test, y_test)\n",
    "\n",
    "print(f\"Best score (accuracy): {best_score:.4f}\")"
   ]
  },
  {
   "cell_type": "code",
   "execution_count": null,
   "metadata": {
    "colab": {
     "base_uri": "https://localhost:8080/"
    },
    "id": "lVmIHr0uzQ-W",
    "outputId": "1e2233b4-9b14-4692-df3c-e9bb4f21f694"
   },
   "outputs": [],
   "source": [
    "# Evaluate the best pipeline on the test set using MSE\n",
    "y_pred = best_pipeline.predict(X_test)\n",
    "acc = accuracy_score(y_test, y_pred)\n",
    "\n",
    "print(f\"Best pipeline: {best_pipeline}\")\n",
    "print(f\"Test MSE: {acc:.4f}\")"
   ]
  },
  {
   "cell_type": "code",
   "execution_count": null,
   "metadata": {
    "colab": {
     "base_uri": "https://localhost:8080/",
     "height": 783,
     "referenced_widgets": [
      "344bb0fa431f4419b7d4d57499179666",
      "5898bbfb842a421e9ae0ca71a7f7526e",
      "b9518ab87c344b82a11af797e69d94e0",
      "f40bc64d8d7c4e82bb202d727049f0a7",
      "d21a7d1f1f9046678958a6a8d59e1a71",
      "e588c576890344f39837c59c01abba75",
      "7aadf722362c41278ec5c73eb775e8de",
      "17524e8cccb54e5588721cbff48d1195",
      "47d01fe769e54bb8a1f1fa9cac5144a1",
      "f9f9597910134e86899b47551e90ba5c",
      "6c932f60c99a41c5878da0d88635c016"
     ]
    },
    "id": "nmwCAqbgzQ3z",
    "outputId": "1ab476cc-28c5-46a5-f0f7-207863a94307"
   },
   "outputs": [],
   "source": [
    "# Initialize TPOT for classification\n",
    "tpot = TPOTClassifier(generations=20, population_size=10, offspring_size = 5, cv=10, scoring='accuracy', config_dict=tpot_config, verbosity=2, n_jobs=-1)\n",
    "# Fit TPOT to the training data\n",
    "tpot.fit(X_train, y_train)\n",
    "\n",
    "# Get the best pipeline (including hyperparameters)\n",
    "best_pipeline = tpot.fitted_pipeline_\n",
    "\n",
    "# Get the best score (accuracy)\n",
    "best_score = tpot.score(X_test, y_test)\n",
    "\n",
    "print(f\"Best score (accuracy): {best_score:.4f}\")"
   ]
  },
  {
   "cell_type": "code",
   "execution_count": null,
   "metadata": {
    "colab": {
     "base_uri": "https://localhost:8080/"
    },
    "id": "FQSnALs8zQwg",
    "outputId": "caba4cff-db2b-48c7-f0fc-0eae22bbf955"
   },
   "outputs": [],
   "source": [
    "# Evaluate the best pipeline on the test set using MSE\n",
    "y_pred = best_pipeline.predict(X_test)\n",
    "acc = accuracy_score(y_test, y_pred)\n",
    "\n",
    "print(f\"Best pipeline: {best_pipeline}\")\n",
    "print(f\"Test MSE: {acc:.4f}\")"
   ]
  },
  {
   "cell_type": "code",
   "execution_count": null,
   "metadata": {
    "colab": {
     "base_uri": "https://localhost:8080/",
     "height": 783,
     "referenced_widgets": [
      "3faa03bc32724fa3a2fa388c24983199",
      "93efd51a674b4f14a0ea704a35097246",
      "712c6b4453ea40cabb5ba0824fc4b232",
      "d2566926043b4aa4a8670bd7dd306dd5",
      "73c242967ef84bbd8b914f7b85ee42c4",
      "f97f415eab1c4289a5e0abf1a8a0e26a",
      "1698e41714f1476b8672249008a2ad18",
      "cd71ddc047a54a8ba227c4e15cb77cfc",
      "eeaf5834be1245399defb0c1e95b0419",
      "024832de15014f8999ff31ede229ca4d",
      "e3593a3452194b03a1fa550269aa9b84"
     ]
    },
    "id": "o5lljslZzQtk",
    "outputId": "c476ebb1-82ef-4591-c03c-d9a60bcc7b86"
   },
   "outputs": [],
   "source": [
    "# Initialize TPOT for classification\n",
    "tpot = TPOTClassifier(generations=20, population_size=30, offspring_size = 5, cv=10, scoring='accuracy', config_dict=tpot_config, verbosity=2, n_jobs=-1)\n",
    "# Fit TPOT to the training data\n",
    "tpot.fit(X_train, y_train)\n",
    "\n",
    "# Get the best pipeline (including hyperparameters)\n",
    "best_pipeline = tpot.fitted_pipeline_\n",
    "\n",
    "# Get the best score (accuracy)\n",
    "best_score = tpot.score(X_test, y_test)\n",
    "\n",
    "print(f\"Best score (accuracy): {best_score:.4f}\")"
   ]
  },
  {
   "cell_type": "code",
   "execution_count": null,
   "metadata": {
    "colab": {
     "base_uri": "https://localhost:8080/"
    },
    "id": "RK1f4zTtzQqn",
    "outputId": "f4d2604b-5b20-4199-a234-a7d2d8d0e4bf"
   },
   "outputs": [],
   "source": [
    "# Evaluate the best pipeline on the test set using MSE\n",
    "y_pred = best_pipeline.predict(X_test)\n",
    "acc = accuracy_score(y_test, y_pred)\n",
    "\n",
    "print(f\"Best pipeline: {best_pipeline}\")\n",
    "print(f\"Test MSE: {acc:.4f}\")"
   ]
  },
  {
   "cell_type": "code",
   "execution_count": null,
   "metadata": {
    "colab": {
     "base_uri": "https://localhost:8080/",
     "height": 783,
     "referenced_widgets": [
      "a8c849ffcd3643918f446e21a9b6195e",
      "98295870bd1b40258699ec19dad13105",
      "977c662feab5443e80230fc7c6874818",
      "0a06b40b965348ee86469bec413acf35",
      "55d254a939804aca8d26fabe01b0de22",
      "354a05fadb274c0fb9250039a11dd917",
      "10ee0a4b0d8d491a994cb5373bb4e22d",
      "21d1fc77d4ae4c3997ffdca4f7552680",
      "ccfddbb47dc045c0afd6ad74c3e0986d",
      "5a54afd8c5d7414a8fc50dd4dd844a5b",
      "4387507b2085444ca5d4cf9a70d3156b"
     ]
    },
    "id": "46O5h7RnzQnv",
    "outputId": "dd89f985-cdeb-4a05-dc6e-91320096c1c1"
   },
   "outputs": [],
   "source": [
    "# Initialize TPOT for classification\n",
    "tpot = TPOTClassifier(generations=20, population_size=50, offspring_size = 5, cv=10, scoring='accuracy', config_dict=tpot_config, verbosity=2, n_jobs=-1)\n",
    "# Fit TPOT to the training data\n",
    "tpot.fit(X_train, y_train)\n",
    "\n",
    "# Get the best pipeline (including hyperparameters)\n",
    "best_pipeline = tpot.fitted_pipeline_\n",
    "\n",
    "# Get the best score (accuracy)\n",
    "best_score = tpot.score(X_test, y_test)\n",
    "\n",
    "print(f\"Best score (accuracy): {best_score:.4f}\")"
   ]
  },
  {
   "cell_type": "code",
   "execution_count": null,
   "metadata": {
    "colab": {
     "base_uri": "https://localhost:8080/"
    },
    "id": "gdvBmWe_zQkQ",
    "outputId": "d9b53036-b4fb-42bb-872f-25e7373587d6"
   },
   "outputs": [],
   "source": [
    "# Evaluate the best pipeline on the test set using MSE\n",
    "y_pred = best_pipeline.predict(X_test)\n",
    "acc = accuracy_score(y_test, y_pred)\n",
    "\n",
    "print(f\"Best pipeline: {best_pipeline}\")\n",
    "print(f\"Test MSE: {acc:.4f}\")"
   ]
  },
  {
   "cell_type": "code",
   "execution_count": null,
   "metadata": {
    "colab": {
     "background_save": true,
     "base_uri": "https://localhost:8080/",
     "height": 766,
     "referenced_widgets": [
      "38e9c3f1db884da9a685f55f23133596",
      "e41b9bf763424c8ab26151a1969139e4",
      "5752cf6c505b407ba4ba17a953829b95",
      "3f1b50d0686840068511e6b00218c35a",
      "0f56ba5577e34d799cc859b5cd4b06a9",
      "702e55401f724d5da2702a59ca15a0c0",
      "f5b81da58fbe413d87dcf73bbcfef70f",
      "f9106b98a6894badacf6ea050666b876",
      "c45f3e0d2ab54394ae3d858b8bcab0e5",
      "ee88ed33ce554c66a3d73d6e274b6859",
      "0f075043695049779ba2dcbfd775363e"
     ]
    },
    "id": "jRWgGEg3zQgq",
    "outputId": "20aa395b-3b57-46cc-c88b-df6f31813e72"
   },
   "outputs": [],
   "source": [
    "# Initialize TPOT for classification\n",
    "tpot = TPOTClassifier(generations=20, population_size=70, offspring_size = 5, cv=10, scoring='accuracy', config_dict=tpot_config, verbosity=2, n_jobs=-1)\n",
    "# Fit TPOT to the training data\n",
    "tpot.fit(X_train, y_train)\n",
    "\n",
    "# Get the best pipeline (including hyperparameters)\n",
    "best_pipeline = tpot.fitted_pipeline_\n",
    "\n",
    "# Get the best score (accuracy)\n",
    "best_score = tpot.score(X_test, y_test)\n",
    "\n",
    "print(f\"Best score (accuracy): {best_score:.4f}\")"
   ]
  },
  {
   "cell_type": "code",
   "execution_count": null,
   "metadata": {
    "colab": {
     "background_save": true
    },
    "id": "eTWTG3L_zQcn",
    "outputId": "1ff77f5a-279b-483f-eba6-b07f37106816"
   },
   "outputs": [],
   "source": [
    "# Evaluate the best pipeline on the test set using MSE\n",
    "y_pred = best_pipeline.predict(X_test)\n",
    "acc = accuracy_score(y_test, y_pred)\n",
    "\n",
    "print(f\"Best pipeline: {best_pipeline}\")\n",
    "print(f\"Test MSE: {acc:.4f}\")"
   ]
  },
  {
   "cell_type": "code",
   "execution_count": null,
   "metadata": {
    "colab": {
     "background_save": true,
     "base_uri": "https://localhost:8080/",
     "height": 694,
     "referenced_widgets": [
      "2062c1a6f468483ab7f8d443db2734b3"
     ]
    },
    "id": "Lhm3hAH8zQZA",
    "outputId": "ef8fb593-0268-40e8-83bd-b71b27412532"
   },
   "outputs": [],
   "source": [
    "# Initialize TPOT for classification\n",
    "tpot = TPOTClassifier(generations=20, population_size=100, offspring_size = 5, cv=10, scoring='accuracy', config_dict=tpot_config, verbosity=2, n_jobs=-1)\n",
    "# Fit TPOT to the training data\n",
    "tpot.fit(X_train, y_train)\n",
    "\n",
    "# Get the best pipeline (including hyperparameters)\n",
    "best_pipeline = tpot.fitted_pipeline_\n",
    "\n",
    "# Get the best score (accuracy)\n",
    "best_score = tpot.score(X_test, y_test)\n",
    "\n",
    "print(f\"Best score (accuracy): {best_score:.4f}\")"
   ]
  },
  {
   "cell_type": "code",
   "execution_count": null,
   "metadata": {
    "colab": {
     "background_save": true
    },
    "id": "jmjWLNk3zQU_",
    "outputId": "db5df30a-a0c7-4829-acf0-82e8cc016fbb"
   },
   "outputs": [],
   "source": [
    "# Evaluate the best pipeline on the test set using MSE\n",
    "y_pred = best_pipeline.predict(X_test)\n",
    "acc = accuracy_score(y_test, y_pred)\n",
    "\n",
    "print(f\"Best pipeline: {best_pipeline}\")\n",
    "print(f\"Test MSE: {acc:.4f}\")"
   ]
  },
  {
   "cell_type": "code",
   "execution_count": null,
   "metadata": {
    "id": "NYQVV42jzQPZ"
   },
   "outputs": [],
   "source": [
    "# Initialize TPOT for classification\n",
    "tpot = TPOTClassifier(generations=20, population_size=150, offspring_size = 5, cv=10, scoring='accuracy', config_dict=tpot_config, verbosity=2, n_jobs=-1)\n",
    "# Fit TPOT to the training data\n",
    "tpot.fit(X_train, y_train)\n",
    "\n",
    "# Get the best pipeline (including hyperparameters)\n",
    "best_pipeline = tpot.fitted_pipeline_\n",
    "\n",
    "# Get the best score (accuracy)\n",
    "best_score = tpot.score(X_test, y_test)\n",
    "\n",
    "print(f\"Best score (accuracy): {best_score:.4f}\")"
   ]
  },
  {
   "cell_type": "code",
   "execution_count": null,
   "metadata": {
    "id": "kt0T6NCezQK_"
   },
   "outputs": [],
   "source": [
    "# Evaluate the best pipeline on the test set using MSE\n",
    "y_pred = best_pipeline.predict(X_test)\n",
    "acc = accuracy_score(y_test, y_pred)\n",
    "\n",
    "print(f\"Best pipeline: {best_pipeline}\")\n",
    "print(f\"Test MSE: {acc:.4f}\")"
   ]
  },
  {
   "cell_type": "code",
   "execution_count": null,
   "metadata": {
    "id": "rBNouGYtzQHD"
   },
   "outputs": [],
   "source": [
    "# Initialize TPOT for classification\n",
    "tpot = TPOTClassifier(generations=20, population_size=200, offspring_size = 5, cv=10, scoring='accuracy', config_dict=tpot_config, verbosity=2, n_jobs=-1)\n",
    "# Fit TPOT to the training data\n",
    "tpot.fit(X_train, y_train)\n",
    "\n",
    "# Get the best pipeline (including hyperparameters)\n",
    "best_pipeline = tpot.fitted_pipeline_\n",
    "\n",
    "# Get the best score (accuracy)\n",
    "best_score = tpot.score(X_test, y_test)\n",
    "\n",
    "print(f\"Best score (accuracy): {best_score:.4f}\")"
   ]
  },
  {
   "cell_type": "code",
   "execution_count": null,
   "metadata": {
    "id": "sybvjWgHzQDD"
   },
   "outputs": [],
   "source": [
    "# Evaluate the best pipeline on the test set using MSE\n",
    "y_pred = best_pipeline.predict(X_test)\n",
    "acc = accuracy_score(y_test, y_pred)\n",
    "\n",
    "print(f\"Best pipeline: {best_pipeline}\")\n",
    "print(f\"Test MSE: {acc:.4f}\")"
   ]
  },
  {
   "cell_type": "code",
   "execution_count": null,
   "metadata": {
    "id": "GZVLx20MzP-7"
   },
   "outputs": [],
   "source": [
    "# Initialize TPOT for classification\n",
    "tpot = TPOTClassifier(generations=30, population_size=10, offspring_size = 5, cv=10, scoring='accuracy', config_dict=tpot_config, verbosity=2, n_jobs=-1)\n",
    "# Fit TPOT to the training data\n",
    "tpot.fit(X_train, y_train)\n",
    "\n",
    "# Get the best pipeline (including hyperparameters)\n",
    "best_pipeline = tpot.fitted_pipeline_\n",
    "\n",
    "# Get the best score (accuracy)\n",
    "best_score = tpot.score(X_test, y_test)\n",
    "\n",
    "print(f\"Best score (accuracy): {best_score:.4f}\")"
   ]
  },
  {
   "cell_type": "code",
   "execution_count": null,
   "metadata": {
    "id": "h2oE8SO4zP7K"
   },
   "outputs": [],
   "source": [
    "# Evaluate the best pipeline on the test set using MSE\n",
    "y_pred = best_pipeline.predict(X_test)\n",
    "acc = accuracy_score(y_test, y_pred)\n",
    "\n",
    "print(f\"Best pipeline: {best_pipeline}\")\n",
    "print(f\"Test MSE: {acc:.4f}\")"
   ]
  },
  {
   "cell_type": "code",
   "execution_count": null,
   "metadata": {
    "id": "n5rjn_uxzP4H"
   },
   "outputs": [],
   "source": [
    "# Initialize TPOT for classification\n",
    "tpot = TPOTClassifier(generations=30, population_size=30, offspring_size = 5, cv=10, scoring='accuracy', config_dict=tpot_config, verbosity=2, n_jobs=-1)\n",
    "# Fit TPOT to the training data\n",
    "tpot.fit(X_train, y_train)\n",
    "\n",
    "# Get the best pipeline (including hyperparameters)\n",
    "best_pipeline = tpot.fitted_pipeline_\n",
    "\n",
    "# Get the best score (accuracy)\n",
    "best_score = tpot.score(X_test, y_test)\n",
    "\n",
    "print(f\"Best score (accuracy): {best_score:.4f}\")"
   ]
  },
  {
   "cell_type": "code",
   "execution_count": null,
   "metadata": {
    "id": "9JtNeCDMzPzz"
   },
   "outputs": [],
   "source": [
    "# Evaluate the best pipeline on the test set using MSE\n",
    "y_pred = best_pipeline.predict(X_test)\n",
    "acc = accuracy_score(y_test, y_pred)\n",
    "\n",
    "print(f\"Best pipeline: {best_pipeline}\")\n",
    "print(f\"Test MSE: {acc:.4f}\")"
   ]
  },
  {
   "cell_type": "code",
   "execution_count": null,
   "metadata": {
    "id": "_RLkW8E4zPvt"
   },
   "outputs": [],
   "source": [
    "# Initialize TPOT for classification\n",
    "tpot = TPOTClassifier(generations=30, population_size=50, offspring_size = 5, cv=10, scoring='accuracy', config_dict=tpot_config, verbosity=2, n_jobs=-1)\n",
    "# Fit TPOT to the training data\n",
    "tpot.fit(X_train, y_train)\n",
    "\n",
    "# Get the best pipeline (including hyperparameters)\n",
    "best_pipeline = tpot.fitted_pipeline_\n",
    "\n",
    "# Get the best score (accuracy)\n",
    "best_score = tpot.score(X_test, y_test)\n",
    "\n",
    "print(f\"Best score (accuracy): {best_score:.4f}\")"
   ]
  },
  {
   "cell_type": "code",
   "execution_count": null,
   "metadata": {
    "id": "fpab2SxnzPsC"
   },
   "outputs": [],
   "source": [
    "# Evaluate the best pipeline on the test set using MSE\n",
    "y_pred = best_pipeline.predict(X_test)\n",
    "acc = accuracy_score(y_test, y_pred)\n",
    "\n",
    "print(f\"Best pipeline: {best_pipeline}\")\n",
    "print(f\"Test MSE: {acc:.4f}\")"
   ]
  },
  {
   "cell_type": "code",
   "execution_count": null,
   "metadata": {
    "colab": {
     "background_save": true,
     "referenced_widgets": [
      "59cbe65d865049ab9a334b4a0025ba03"
     ]
    },
    "id": "IO2wjF5lzPoe",
    "outputId": "fb90c48a-23f6-4d67-8b6d-c07a2f3b57dc"
   },
   "outputs": [],
   "source": [
    "# Initialize TPOT for classification\n",
    "tpot = TPOTClassifier(generations=30, population_size=70, offspring_size = 5, cv=10, scoring='accuracy', config_dict=tpot_config, verbosity=2, n_jobs=-1)\n",
    "# Fit TPOT to the training data\n",
    "tpot.fit(X_train, y_train)\n",
    "\n",
    "# Get the best pipeline (including hyperparameters)\n",
    "best_pipeline = tpot.fitted_pipeline_\n",
    "\n",
    "# Get the best score (accuracy)\n",
    "best_score = tpot.score(X_test, y_test)\n",
    "\n",
    "print(f\"Best score (accuracy): {best_score:.4f}\")"
   ]
  },
  {
   "cell_type": "code",
   "execution_count": null,
   "metadata": {
    "colab": {
     "background_save": true
    },
    "id": "UuvJtPRjzPlk",
    "outputId": "c135004f-b70c-4f78-e2ff-d87bcf0159db"
   },
   "outputs": [],
   "source": [
    "# Evaluate the best pipeline on the test set using MSE\n",
    "y_pred = best_pipeline.predict(X_test)\n",
    "acc = accuracy_score(y_test, y_pred)\n",
    "\n",
    "print(f\"Best pipeline: {best_pipeline}\")\n",
    "print(f\"Test MSE: {acc:.4f}\")"
   ]
  },
  {
   "cell_type": "code",
   "execution_count": null,
   "metadata": {
    "colab": {
     "background_save": true,
     "referenced_widgets": [
      "91254109b2bb4de08d7da0a3a9fb2345"
     ]
    },
    "id": "YQ6XuyBJzPhk",
    "outputId": "48758461-436d-4393-86cb-508d9d346233"
   },
   "outputs": [],
   "source": [
    "# Initialize TPOT for classification\n",
    "tpot = TPOTClassifier(generations=30, population_size=100, offspring_size = 5, cv=10, scoring='accuracy', config_dict=tpot_config, verbosity=2, n_jobs=-1)\n",
    "# Fit TPOT to the training data\n",
    "tpot.fit(X_train, y_train)\n",
    "\n",
    "# Get the best pipeline (including hyperparameters)\n",
    "best_pipeline = tpot.fitted_pipeline_\n",
    "\n",
    "# Get the best score (accuracy)\n",
    "best_score = tpot.score(X_test, y_test)\n",
    "\n",
    "print(f\"Best score (accuracy): {best_score:.4f}\")"
   ]
  },
  {
   "cell_type": "code",
   "execution_count": null,
   "metadata": {
    "id": "AXq8iPydzPb0"
   },
   "outputs": [],
   "source": [
    "# Evaluate the best pipeline on the test set using MSE\n",
    "y_pred = best_pipeline.predict(X_test)\n",
    "acc = accuracy_score(y_test, y_pred)\n",
    "\n",
    "print(f\"Best pipeline: {best_pipeline}\")\n",
    "print(f\"Test MSE: {acc:.4f}\")"
   ]
  },
  {
   "cell_type": "code",
   "execution_count": null,
   "metadata": {
    "id": "-HE9SZmFzPX6"
   },
   "outputs": [],
   "source": [
    "# Initialize TPOT for classification\n",
    "tpot = TPOTClassifier(generations=30, population_size=150, offspring_size = 5, cv=10, scoring='accuracy', config_dict=tpot_config, verbosity=2, n_jobs=-1)\n",
    "# Fit TPOT to the training data\n",
    "tpot.fit(X_train, y_train)\n",
    "\n",
    "# Get the best pipeline (including hyperparameters)\n",
    "best_pipeline = tpot.fitted_pipeline_\n",
    "\n",
    "# Get the best score (accuracy)\n",
    "best_score = tpot.score(X_test, y_test)\n",
    "\n",
    "print(f\"Best score (accuracy): {best_score:.4f}\")"
   ]
  },
  {
   "cell_type": "code",
   "execution_count": null,
   "metadata": {
    "id": "TqhWp3nhzPUI"
   },
   "outputs": [],
   "source": [
    "# Evaluate the best pipeline on the test set using MSE\n",
    "y_pred = best_pipeline.predict(X_test)\n",
    "acc = accuracy_score(y_test, y_pred)\n",
    "\n",
    "print(f\"Best pipeline: {best_pipeline}\")\n",
    "print(f\"Test MSE: {acc:.4f}\")"
   ]
  },
  {
   "cell_type": "code",
   "execution_count": null,
   "metadata": {
    "id": "uZ6YUJGdzPQq"
   },
   "outputs": [],
   "source": [
    "# Initialize TPOT for classification\n",
    "tpot = TPOTClassifier(generations=30, population_size=200, offspring_size = 5, cv=10, scoring='accuracy', config_dict=tpot_config, verbosity=2, n_jobs=-1)\n",
    "# Fit TPOT to the training data\n",
    "tpot.fit(X_train, y_train)\n",
    "\n",
    "# Get the best pipeline (including hyperparameters)\n",
    "best_pipeline = tpot.fitted_pipeline_\n",
    "\n",
    "# Get the best score (accuracy)\n",
    "best_score = tpot.score(X_test, y_test)\n",
    "\n",
    "print(f\"Best score (accuracy): {best_score:.4f}\")"
   ]
  },
  {
   "cell_type": "code",
   "execution_count": null,
   "metadata": {
    "id": "IAPFZhpOzPNQ"
   },
   "outputs": [],
   "source": [
    "# Evaluate the best pipeline on the test set using MSE\n",
    "y_pred = best_pipeline.predict(X_test)\n",
    "acc = accuracy_score(y_test, y_pred)\n",
    "\n",
    "print(f\"Best pipeline: {best_pipeline}\")\n",
    "print(f\"Test MSE: {acc:.4f}\")"
   ]
  },
  {
   "cell_type": "code",
   "execution_count": null,
   "metadata": {
    "id": "EGm6a5jqzPJn"
   },
   "outputs": [],
   "source": []
  },
  {
   "cell_type": "code",
   "execution_count": null,
   "metadata": {
    "id": "D-GP42Y207fR"
   },
   "outputs": [],
   "source": []
  },
  {
   "cell_type": "code",
   "execution_count": null,
   "metadata": {
    "id": "cQJlxK2Z07cD"
   },
   "outputs": [],
   "source": []
  },
  {
   "cell_type": "code",
   "execution_count": null,
   "metadata": {
    "id": "Q2e6QB5k07YP"
   },
   "outputs": [],
   "source": []
  }
 ],
 "metadata": {
  "colab": {
   "provenance": []
  },
  "kernelspec": {
   "display_name": "Python 3",
   "name": "python3"
  },
  "language_info": {
   "name": "python"
  }
 },
 "nbformat": 4,
 "nbformat_minor": 0
}
